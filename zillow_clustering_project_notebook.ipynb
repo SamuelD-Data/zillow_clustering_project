{
 "cells": [
  {
   "cell_type": "markdown",
   "metadata": {},
   "source": [
    "# The Drivers of Log Error in Single Unit Zestimates at Zillow\n",
    "***"
   ]
  },
  {
   "cell_type": "markdown",
   "metadata": {},
   "source": [
    "# Introduction\n",
    "\n",
    "### Author\n",
    "- Samuel Davila\n",
    " - Data Scientist\n",
    " - Zillow DS Department\n",
    "\n",
    "### Purpose of project\n",
    "- Identify what causes the log error values in Zillow property value estimates (\"Zestimates\") to fluctuate. \n",
    "    - For example, are we finding that we do a poor job of estimating the value of properties with a high amount of bedrooms?\n",
    "\n",
    "### Why is this project important?\n",
    "- By identifying the drivers of log error, we can find ways to improve our estimates when these drivers are at threshold that would weaken our estimates.\n",
    "    - For example, if we do a poor job of estimating the values of properties with high amounts of bedrooms, we can study those properties in-depth and refine our methods for evaluating them\n",
    "\n",
    "### Data source\n",
    "- Single unit property data from Zillow table in Data Science Database\n",
    "***"
   ]
  },
  {
   "cell_type": "markdown",
   "metadata": {},
   "source": [
    "# Executive Summary\n",
    "\n",
    "### Goals\n",
    "- Improve original estimate of the log error by using clustering methodologies.\n",
    "    - Identify drivers of log error\n",
    "    - Create model that...\n",
    "    \n",
    "\n",
    "- Deliver the following:\n",
    "\n",
    "    - zillow_clustering_project.ipynb\n",
    "\n",
    "    - README.md\n",
    "\n",
    "    - acquire.py\n",
    "\n",
    "    - prep.py\n",
    "\n",
    "    - prep.py\n",
    "\n",
    "    - model.py\n",
    "    \n",
    "    - A presentation that walks through each step of our project and this notebook as a whole.\n",
    "\n",
    "### Analysis\n",
    "\n",
    "Analysis goes here\n",
    "\n",
    "### Recommendation\n",
    "\n",
    "Recommendation goes here\n",
    "\n",
    "### Expectation\n",
    "\n",
    "Expectation goes here\n",
    "***"
   ]
  },
  {
   "cell_type": "markdown",
   "metadata": {},
   "source": [
    "# Project Planning"
   ]
  },
  {
   "cell_type": "markdown",
   "metadata": {},
   "source": [
    "### Acquire\n",
    "\n",
    "### Preparation\n",
    "\n",
    "### Exploraton\n",
    "\n",
    "### Model\n",
    "\n",
    "### Conclusion\n",
    "***"
   ]
  },
  {
   "cell_type": "markdown",
   "metadata": {},
   "source": [
    "# Acquire\n",
    "Acquire the data we need for our project from the zillow table in the data science database.\n",
    "\n",
    "Create __acquire.py__ file that contains the functions needed to replicate this process.\n",
    "***"
   ]
  },
  {
   "cell_type": "markdown",
   "metadata": {},
   "source": [
    "#### Importing modules needed for code in notebook to run."
   ]
  },
  {
   "cell_type": "code",
   "execution_count": 1,
   "metadata": {},
   "outputs": [],
   "source": [
    "# set up environment\n",
    "from acquire import get_zillow_data\n",
    "from prep import drop_missing_columns, missing_rows, drop_selected_columns, drop_more_selected_columns, compare_column_values\n",
    "from prep import tax_columns_calculator, split_data, add_upper_outlier_columns, upper_outlier_data_print, data_scaler\n",
    "from prep import outlier_remover, zillow_dummy, rfe_ranker, column_renamer, rfe_column_dropper, final_prep\n",
    "from model import baseline_function, model_1_function, model_2_function, model_3_function\n",
    "\n",
    "from sklearn.cluster import KMeans\n",
    "from sklearn.linear_model import LinearRegression, LassoLars\n",
    "from sklearn.metrics import mean_squared_error\n",
    "from sklearn.feature_selection import RFE\n",
    "\n",
    "import scipy.stats as stats\n",
    "import seaborn as sns\n",
    "import matplotlib.pyplot as plt\n",
    "import pandas as pd\n",
    "\n",
    "import warnings\n",
    "warnings.filterwarnings(\"ignore\")"
   ]
  },
  {
   "cell_type": "markdown",
   "metadata": {},
   "source": [
    "#### Using get_zillow_data function (acquire.py)  to import data "
   ]
  },
  {
   "cell_type": "code",
   "execution_count": 2,
   "metadata": {
    "scrolled": false
   },
   "outputs": [
    {
     "data": {
      "text/html": [
       "<div>\n",
       "<style scoped>\n",
       "    .dataframe tbody tr th:only-of-type {\n",
       "        vertical-align: middle;\n",
       "    }\n",
       "\n",
       "    .dataframe tbody tr th {\n",
       "        vertical-align: top;\n",
       "    }\n",
       "\n",
       "    .dataframe thead th {\n",
       "        text-align: right;\n",
       "    }\n",
       "</style>\n",
       "<table border=\"1\" class=\"dataframe\">\n",
       "  <thead>\n",
       "    <tr style=\"text-align: right;\">\n",
       "      <th></th>\n",
       "      <th>id</th>\n",
       "      <th>parcelid</th>\n",
       "      <th>airconditioningtypeid</th>\n",
       "      <th>architecturalstyletypeid</th>\n",
       "      <th>basementsqft</th>\n",
       "      <th>bathroomcnt</th>\n",
       "      <th>bedroomcnt</th>\n",
       "      <th>buildingclasstypeid</th>\n",
       "      <th>buildingqualitytypeid</th>\n",
       "      <th>calculatedbathnbr</th>\n",
       "      <th>...</th>\n",
       "      <th>assessmentyear</th>\n",
       "      <th>landtaxvaluedollarcnt</th>\n",
       "      <th>taxamount</th>\n",
       "      <th>taxdelinquencyflag</th>\n",
       "      <th>taxdelinquencyyear</th>\n",
       "      <th>censustractandblock</th>\n",
       "      <th>id.1</th>\n",
       "      <th>parcelid.1</th>\n",
       "      <th>logerror</th>\n",
       "      <th>transactiondate</th>\n",
       "    </tr>\n",
       "  </thead>\n",
       "  <tbody>\n",
       "    <tr>\n",
       "      <th>0</th>\n",
       "      <td>2288172</td>\n",
       "      <td>12177905</td>\n",
       "      <td>NaN</td>\n",
       "      <td>NaN</td>\n",
       "      <td>NaN</td>\n",
       "      <td>3.0</td>\n",
       "      <td>4.0</td>\n",
       "      <td>NaN</td>\n",
       "      <td>8.0</td>\n",
       "      <td>3.0</td>\n",
       "      <td>...</td>\n",
       "      <td>2016.0</td>\n",
       "      <td>36225.0</td>\n",
       "      <td>1777.51</td>\n",
       "      <td>NaN</td>\n",
       "      <td>NaN</td>\n",
       "      <td>6.037300e+13</td>\n",
       "      <td>3</td>\n",
       "      <td>12177905</td>\n",
       "      <td>-0.10341</td>\n",
       "      <td>2017-01-01</td>\n",
       "    </tr>\n",
       "    <tr>\n",
       "      <th>1</th>\n",
       "      <td>1970746</td>\n",
       "      <td>10887214</td>\n",
       "      <td>1.0</td>\n",
       "      <td>NaN</td>\n",
       "      <td>NaN</td>\n",
       "      <td>3.0</td>\n",
       "      <td>3.0</td>\n",
       "      <td>NaN</td>\n",
       "      <td>8.0</td>\n",
       "      <td>3.0</td>\n",
       "      <td>...</td>\n",
       "      <td>2016.0</td>\n",
       "      <td>45726.0</td>\n",
       "      <td>1533.89</td>\n",
       "      <td>NaN</td>\n",
       "      <td>NaN</td>\n",
       "      <td>6.037124e+13</td>\n",
       "      <td>4</td>\n",
       "      <td>10887214</td>\n",
       "      <td>0.00694</td>\n",
       "      <td>2017-01-01</td>\n",
       "    </tr>\n",
       "  </tbody>\n",
       "</table>\n",
       "<p>2 rows × 63 columns</p>\n",
       "</div>"
      ],
      "text/plain": [
       "        id  parcelid  airconditioningtypeid  architecturalstyletypeid  \\\n",
       "0  2288172  12177905                    NaN                       NaN   \n",
       "1  1970746  10887214                    1.0                       NaN   \n",
       "\n",
       "   basementsqft  bathroomcnt  bedroomcnt  buildingclasstypeid  \\\n",
       "0           NaN          3.0         4.0                  NaN   \n",
       "1           NaN          3.0         3.0                  NaN   \n",
       "\n",
       "   buildingqualitytypeid  calculatedbathnbr  ...  assessmentyear  \\\n",
       "0                    8.0                3.0  ...          2016.0   \n",
       "1                    8.0                3.0  ...          2016.0   \n",
       "\n",
       "   landtaxvaluedollarcnt  taxamount  taxdelinquencyflag  taxdelinquencyyear  \\\n",
       "0                36225.0    1777.51                 NaN                 NaN   \n",
       "1                45726.0    1533.89                 NaN                 NaN   \n",
       "\n",
       "   censustractandblock  id.1  parcelid.1  logerror  transactiondate  \n",
       "0         6.037300e+13     3    12177905  -0.10341       2017-01-01  \n",
       "1         6.037124e+13     4    10887214   0.00694       2017-01-01  \n",
       "\n",
       "[2 rows x 63 columns]"
      ]
     },
     "execution_count": 2,
     "metadata": {},
     "output_type": "execute_result"
    }
   ],
   "source": [
    "# create variable that will hold DF for easy access to data\n",
    "df = get_zillow_data()\n",
    "\n",
    "# previewing data\n",
    "df.head(2)"
   ]
  },
  {
   "cell_type": "markdown",
   "metadata": {},
   "source": [
    "### ACQUIRE TAKEAWAYS\n",
    "- Acquiring data from zillow database on the data science database server using the __get_zillow_data__ function\n",
    "- Function needed to replicate this phase is located in the __acquire.py__ file\n",
    "***"
   ]
  },
  {
   "cell_type": "markdown",
   "metadata": {},
   "source": [
    "# Prepare\n",
    "Prepare, tidy, and clean the data for exploration and analysis.\n",
    "\n",
    "Create __prep.py__ file that contains the functions needed to replicate this process.\n",
    "***"
   ]
  },
  {
   "cell_type": "markdown",
   "metadata": {},
   "source": [
    "#### We'll use .info to see null value counts, data types, and row / columns count."
   ]
  },
  {
   "cell_type": "code",
   "execution_count": 3,
   "metadata": {
    "scrolled": false
   },
   "outputs": [
    {
     "name": "stdout",
     "output_type": "stream",
     "text": [
      "<class 'pandas.core.frame.DataFrame'>\n",
      "RangeIndex: 47414 entries, 0 to 47413\n",
      "Data columns (total 63 columns):\n",
      " #   Column                        Non-Null Count  Dtype  \n",
      "---  ------                        --------------  -----  \n",
      " 0   id                            47414 non-null  int64  \n",
      " 1   parcelid                      47414 non-null  int64  \n",
      " 2   airconditioningtypeid         22070 non-null  float64\n",
      " 3   architecturalstyletypeid      0 non-null      float64\n",
      " 4   basementsqft                  0 non-null      float64\n",
      " 5   bathroomcnt                   47414 non-null  float64\n",
      " 6   bedroomcnt                    47414 non-null  float64\n",
      " 7   buildingclasstypeid           8 non-null      float64\n",
      " 8   buildingqualitytypeid         46923 non-null  float64\n",
      " 9   calculatedbathnbr             47368 non-null  float64\n",
      " 10  decktypeid                    0 non-null      float64\n",
      " 11  finishedfloor1squarefeet      0 non-null      float64\n",
      " 12  calculatedfinishedsquarefeet  47407 non-null  float64\n",
      " 13  finishedsquarefeet12          47366 non-null  float64\n",
      " 14  finishedsquarefeet13          0 non-null      float64\n",
      " 15  finishedsquarefeet15          36 non-null     float64\n",
      " 16  finishedsquarefeet50          0 non-null      float64\n",
      " 17  finishedsquarefeet6           5 non-null      float64\n",
      " 18  fips                          47414 non-null  float64\n",
      " 19  fireplacecnt                  0 non-null      float64\n",
      " 20  fullbathcnt                   47368 non-null  float64\n",
      " 21  garagecarcnt                  10 non-null     float64\n",
      " 22  garagetotalsqft               10 non-null     float64\n",
      " 23  hashottuborspa                0 non-null      float64\n",
      " 24  heatingorsystemtypeid         46685 non-null  float64\n",
      " 25  latitude                      47414 non-null  float64\n",
      " 26  longitude                     47414 non-null  float64\n",
      " 27  lotsizesquarefeet             46179 non-null  float64\n",
      " 28  poolcnt                       11603 non-null  float64\n",
      " 29  poolsizesum                   0 non-null      float64\n",
      " 30  pooltypeid10                  0 non-null      float64\n",
      " 31  pooltypeid2                   0 non-null      float64\n",
      " 32  pooltypeid7                   11582 non-null  float64\n",
      " 33  propertycountylandusecode     47414 non-null  object \n",
      " 34  propertylandusetypeid         47414 non-null  float64\n",
      " 35  propertyzoningdesc            47184 non-null  object \n",
      " 36  rawcensustractandblock        47414 non-null  float64\n",
      " 37  regionidcity                  46372 non-null  float64\n",
      " 38  regionidcounty                47414 non-null  float64\n",
      " 39  regionidneighborhood          24146 non-null  float64\n",
      " 40  regionidzip                   47394 non-null  float64\n",
      " 41  roomcnt                       47414 non-null  float64\n",
      " 42  storytypeid                   0 non-null      float64\n",
      " 43  threequarterbathnbr           0 non-null      float64\n",
      " 44  typeconstructiontypeid        0 non-null      float64\n",
      " 45  unitcnt                       47414 non-null  float64\n",
      " 46  yardbuildingsqft17            0 non-null      float64\n",
      " 47  yardbuildingsqft26            0 non-null      float64\n",
      " 48  yearbuilt                     47400 non-null  float64\n",
      " 49  numberofstories               20 non-null     float64\n",
      " 50  fireplaceflag                 0 non-null      float64\n",
      " 51  structuretaxvaluedollarcnt    47350 non-null  float64\n",
      " 52  taxvaluedollarcnt             47414 non-null  float64\n",
      " 53  assessmentyear                47414 non-null  float64\n",
      " 54  landtaxvaluedollarcnt         47414 non-null  float64\n",
      " 55  taxamount                     47410 non-null  float64\n",
      " 56  taxdelinquencyflag            2210 non-null   object \n",
      " 57  taxdelinquencyyear            2210 non-null   float64\n",
      " 58  censustractandblock           47298 non-null  float64\n",
      " 59  id.1                          47414 non-null  int64  \n",
      " 60  parcelid.1                    47414 non-null  int64  \n",
      " 61  logerror                      47414 non-null  float64\n",
      " 62  transactiondate               47414 non-null  object \n",
      "dtypes: float64(55), int64(4), object(4)\n",
      "memory usage: 22.8+ MB\n"
     ]
    }
   ],
   "source": [
    "# using info function to examine data\n",
    "df.info()"
   ]
  },
  {
   "cell_type": "markdown",
   "metadata": {},
   "source": [
    "- Many columns have a large amount of null values\n",
    "    - We'll be using a function (missing_rows) to examine the amount of null values in more depth later\n",
    "    - After examining in-depth, we'll decide how to proceed\n",
    "\n",
    "\n",
    "- Data type of several columns need to be converted \n",
    "    - We'll handle this in a later stage since the columns in question may be removed for in an alternate step \n",
    "        - For example, we may remove a column with a bad data type due to it having too many nulls\n",
    "\n",
    "\n",
    "- Several columns, such as rawcensustractandblock, are categorical variables that may have a very large amount of unique values.\n",
    "    - Encoding every value for these types of columns may be computationally expensive and add a large amount of columns to our dataset.\n",
    "        - We will need to set a cutoff amount for categorical column unique values and remove any columns that exceed this amount.\n",
    "\n",
    "\n",
    "- Once we've identified which columns to move into explore with, we'll need to rename them if they are hard to read, such as landtaxvaluedollarcnt.\n"
   ]
  },
  {
   "cell_type": "markdown",
   "metadata": {},
   "source": [
    "#### Using missing_rows function (prep.py) to create DF that shows the total number and percent of missing rows in each column of our data."
   ]
  },
  {
   "cell_type": "code",
   "execution_count": 4,
   "metadata": {
    "scrolled": false
   },
   "outputs": [
    {
     "data": {
      "text/html": [
       "<div>\n",
       "<style scoped>\n",
       "    .dataframe tbody tr th:only-of-type {\n",
       "        vertical-align: middle;\n",
       "    }\n",
       "\n",
       "    .dataframe tbody tr th {\n",
       "        vertical-align: top;\n",
       "    }\n",
       "\n",
       "    .dataframe thead th {\n",
       "        text-align: right;\n",
       "    }\n",
       "</style>\n",
       "<table border=\"1\" class=\"dataframe\">\n",
       "  <thead>\n",
       "    <tr style=\"text-align: right;\">\n",
       "      <th></th>\n",
       "      <th>num_rows_missing</th>\n",
       "      <th>pct_rows_missing</th>\n",
       "    </tr>\n",
       "  </thead>\n",
       "  <tbody>\n",
       "    <tr>\n",
       "      <th>id</th>\n",
       "      <td>0</td>\n",
       "      <td>0.000000</td>\n",
       "    </tr>\n",
       "    <tr>\n",
       "      <th>parcelid</th>\n",
       "      <td>0</td>\n",
       "      <td>0.000000</td>\n",
       "    </tr>\n",
       "    <tr>\n",
       "      <th>airconditioningtypeid</th>\n",
       "      <td>25344</td>\n",
       "      <td>53.452567</td>\n",
       "    </tr>\n",
       "    <tr>\n",
       "      <th>architecturalstyletypeid</th>\n",
       "      <td>47414</td>\n",
       "      <td>100.000000</td>\n",
       "    </tr>\n",
       "    <tr>\n",
       "      <th>basementsqft</th>\n",
       "      <td>47414</td>\n",
       "      <td>100.000000</td>\n",
       "    </tr>\n",
       "    <tr>\n",
       "      <th>...</th>\n",
       "      <td>...</td>\n",
       "      <td>...</td>\n",
       "    </tr>\n",
       "    <tr>\n",
       "      <th>censustractandblock</th>\n",
       "      <td>116</td>\n",
       "      <td>0.244653</td>\n",
       "    </tr>\n",
       "    <tr>\n",
       "      <th>id.1</th>\n",
       "      <td>0</td>\n",
       "      <td>0.000000</td>\n",
       "    </tr>\n",
       "    <tr>\n",
       "      <th>parcelid.1</th>\n",
       "      <td>0</td>\n",
       "      <td>0.000000</td>\n",
       "    </tr>\n",
       "    <tr>\n",
       "      <th>logerror</th>\n",
       "      <td>0</td>\n",
       "      <td>0.000000</td>\n",
       "    </tr>\n",
       "    <tr>\n",
       "      <th>transactiondate</th>\n",
       "      <td>0</td>\n",
       "      <td>0.000000</td>\n",
       "    </tr>\n",
       "  </tbody>\n",
       "</table>\n",
       "<p>63 rows × 2 columns</p>\n",
       "</div>"
      ],
      "text/plain": [
       "                          num_rows_missing  pct_rows_missing\n",
       "id                                       0          0.000000\n",
       "parcelid                                 0          0.000000\n",
       "airconditioningtypeid                25344         53.452567\n",
       "architecturalstyletypeid             47414        100.000000\n",
       "basementsqft                         47414        100.000000\n",
       "...                                    ...               ...\n",
       "censustractandblock                    116          0.244653\n",
       "id.1                                     0          0.000000\n",
       "parcelid.1                               0          0.000000\n",
       "logerror                                 0          0.000000\n",
       "transactiondate                          0          0.000000\n",
       "\n",
       "[63 rows x 2 columns]"
      ]
     },
     "execution_count": 4,
     "metadata": {},
     "output_type": "execute_result"
    }
   ],
   "source": [
    "# function creates DF displaying number and percent of rows missing from each column\n",
    "missing_rows(df)"
   ]
  },
  {
   "cell_type": "markdown",
   "metadata": {},
   "source": [
    "- There are many columns with a substantial amount of missing values\n",
    "    - We will remove any columns that are missing 40% or more of their values\n",
    "    - We don't have an exact formula for why we should go with 40% but it seems reasonable to remove any columns that are missing that proportion of values."
   ]
  },
  {
   "cell_type": "markdown",
   "metadata": {},
   "source": [
    "#### Using drop_missing_columns function (prep.py) to remove columns that are missing 40% or more of their values."
   ]
  },
  {
   "cell_type": "code",
   "execution_count": 5,
   "metadata": {
    "scrolled": true
   },
   "outputs": [
    {
     "data": {
      "text/html": [
       "<div>\n",
       "<style scoped>\n",
       "    .dataframe tbody tr th:only-of-type {\n",
       "        vertical-align: middle;\n",
       "    }\n",
       "\n",
       "    .dataframe tbody tr th {\n",
       "        vertical-align: top;\n",
       "    }\n",
       "\n",
       "    .dataframe thead th {\n",
       "        text-align: right;\n",
       "    }\n",
       "</style>\n",
       "<table border=\"1\" class=\"dataframe\">\n",
       "  <thead>\n",
       "    <tr style=\"text-align: right;\">\n",
       "      <th></th>\n",
       "      <th>id</th>\n",
       "      <th>parcelid</th>\n",
       "      <th>bathroomcnt</th>\n",
       "      <th>bedroomcnt</th>\n",
       "      <th>buildingqualitytypeid</th>\n",
       "      <th>calculatedbathnbr</th>\n",
       "      <th>calculatedfinishedsquarefeet</th>\n",
       "      <th>finishedsquarefeet12</th>\n",
       "      <th>fips</th>\n",
       "      <th>fullbathcnt</th>\n",
       "      <th>...</th>\n",
       "      <th>structuretaxvaluedollarcnt</th>\n",
       "      <th>taxvaluedollarcnt</th>\n",
       "      <th>assessmentyear</th>\n",
       "      <th>landtaxvaluedollarcnt</th>\n",
       "      <th>taxamount</th>\n",
       "      <th>censustractandblock</th>\n",
       "      <th>id.1</th>\n",
       "      <th>parcelid.1</th>\n",
       "      <th>logerror</th>\n",
       "      <th>transactiondate</th>\n",
       "    </tr>\n",
       "  </thead>\n",
       "  <tbody>\n",
       "    <tr>\n",
       "      <th>0</th>\n",
       "      <td>2288172</td>\n",
       "      <td>12177905</td>\n",
       "      <td>3.0</td>\n",
       "      <td>4.0</td>\n",
       "      <td>8.0</td>\n",
       "      <td>3.0</td>\n",
       "      <td>2376.0</td>\n",
       "      <td>2376.0</td>\n",
       "      <td>6037.0</td>\n",
       "      <td>3.0</td>\n",
       "      <td>...</td>\n",
       "      <td>108918.0</td>\n",
       "      <td>145143.0</td>\n",
       "      <td>2016.0</td>\n",
       "      <td>36225.0</td>\n",
       "      <td>1777.51</td>\n",
       "      <td>6.037300e+13</td>\n",
       "      <td>3</td>\n",
       "      <td>12177905</td>\n",
       "      <td>-0.10341</td>\n",
       "      <td>2017-01-01</td>\n",
       "    </tr>\n",
       "    <tr>\n",
       "      <th>1</th>\n",
       "      <td>1970746</td>\n",
       "      <td>10887214</td>\n",
       "      <td>3.0</td>\n",
       "      <td>3.0</td>\n",
       "      <td>8.0</td>\n",
       "      <td>3.0</td>\n",
       "      <td>1312.0</td>\n",
       "      <td>1312.0</td>\n",
       "      <td>6037.0</td>\n",
       "      <td>3.0</td>\n",
       "      <td>...</td>\n",
       "      <td>73681.0</td>\n",
       "      <td>119407.0</td>\n",
       "      <td>2016.0</td>\n",
       "      <td>45726.0</td>\n",
       "      <td>1533.89</td>\n",
       "      <td>6.037124e+13</td>\n",
       "      <td>4</td>\n",
       "      <td>10887214</td>\n",
       "      <td>0.00694</td>\n",
       "      <td>2017-01-01</td>\n",
       "    </tr>\n",
       "  </tbody>\n",
       "</table>\n",
       "<p>2 rows × 34 columns</p>\n",
       "</div>"
      ],
      "text/plain": [
       "        id  parcelid  bathroomcnt  bedroomcnt  buildingqualitytypeid  \\\n",
       "0  2288172  12177905          3.0         4.0                    8.0   \n",
       "1  1970746  10887214          3.0         3.0                    8.0   \n",
       "\n",
       "   calculatedbathnbr  calculatedfinishedsquarefeet  finishedsquarefeet12  \\\n",
       "0                3.0                        2376.0                2376.0   \n",
       "1                3.0                        1312.0                1312.0   \n",
       "\n",
       "     fips  fullbathcnt  ...  structuretaxvaluedollarcnt  taxvaluedollarcnt  \\\n",
       "0  6037.0          3.0  ...                    108918.0           145143.0   \n",
       "1  6037.0          3.0  ...                     73681.0           119407.0   \n",
       "\n",
       "   assessmentyear  landtaxvaluedollarcnt taxamount  censustractandblock id.1  \\\n",
       "0          2016.0                36225.0   1777.51         6.037300e+13    3   \n",
       "1          2016.0                45726.0   1533.89         6.037124e+13    4   \n",
       "\n",
       "   parcelid.1  logerror  transactiondate  \n",
       "0    12177905  -0.10341       2017-01-01  \n",
       "1    10887214   0.00694       2017-01-01  \n",
       "\n",
       "[2 rows x 34 columns]"
      ]
     },
     "execution_count": 5,
     "metadata": {},
     "output_type": "execute_result"
    }
   ],
   "source": [
    "# function removes any columns that are missing 40% or more of their values\n",
    "df = drop_missing_columns(df)\n",
    "\n",
    "# previewing data\n",
    "df.head(2)"
   ]
  },
  {
   "cell_type": "markdown",
   "metadata": {},
   "source": [
    "#### While examining the data in SQL, we noticed that several columns appeared to have identical values. \n",
    "\n",
    "#### Using compare_column_values (prep.py) to find how many unique values exist between the columns in question."
   ]
  },
  {
   "cell_type": "code",
   "execution_count": 6,
   "metadata": {},
   "outputs": [
    {
     "name": "stdout",
     "output_type": "stream",
     "text": [
      "Number of different values between finishedsquarefeet12 and calculatedfinishedsquarefeet: 48\n",
      "Number of different values between calculatedbathnbr and bathroomcnt: 46\n",
      "Number of different values between fullbathcnt and bathroomcnt: 46\n"
     ]
    }
   ],
   "source": [
    "# function prints out sum of unique values between various columns\n",
    "compare_column_values(df)"
   ]
  },
  {
   "cell_type": "markdown",
   "metadata": {},
   "source": [
    "- The sum of non-duplicate values between all of these columns is 140 (48 + 46 + 46). \n",
    "    - This is roughly .003 of all rows in the DF\n",
    "        - We can safely drop all the following majority-duplicate columns and only lose a extremely small proportion of rows.\n",
    "            - finishedsquarefeet12\n",
    "            - calculatedbathnbr\n",
    "            - fullbathcnt\n",
    "        - We could drop any of their alternativee columns instead but it would cost us time to find a non-arbitrary reason to do so and given how few unique values we're losing, the loss is relatively inconsequential.\n",
    "        - These columns will be dropped in an upcoming function, __drop_selected_columns__, along with any other columns that are found to be in need of removal."
   ]
  },
  {
   "cell_type": "markdown",
   "metadata": {},
   "source": [
    "#### While examining the data in SQL, I noticed that taxvaluedollarcnt appeared to be the sum of landtaxvaluedollarcnt and structuretaxvaluedollarcnt. \n",
    "\n",
    "#### To test this I'm going to use tax_columns_calculator (prep.py) to compare the sums of landtaxvaluedollarcnt and structuretaxvaluedollarcnt  to the values in taxvaluedollarcnt."
   ]
  },
  {
   "cell_type": "code",
   "execution_count": 7,
   "metadata": {},
   "outputs": [
    {
     "name": "stdout",
     "output_type": "stream",
     "text": [
      "0.9986501877082719\n"
     ]
    }
   ],
   "source": [
    "# function sums landtaxvaluedollarcnt and structuretaxvaluedollarcnt then prints the percent of rows where the sum matched taxvaluedollarcnt\n",
    "tax_columns_calculator(df)"
   ]
  },
  {
   "cell_type": "markdown",
   "metadata": {},
   "source": [
    "- 99% of the our summed values matched the original \n",
    "    - Safe the say that in a vast majority of rows, taxvaluedollarcnt is the sum of landtaxvaluedollarcnt and structuretaxvaluedollarcnt\n",
    "        - This being the case, we're only going to keep taxvaluedollarcnt and remove the other two columns since their values are already accounted for in this column.\n",
    "        - If need be, we can add them back later and see if we get better results by having them seperated.\n",
    "            - The columns will be dropped at a later step using the __drop_selected_columns__ function"
   ]
  },
  {
   "cell_type": "markdown",
   "metadata": {},
   "source": [
    "#### We're using nunique() to see how many unique values each column has. This is useful for identifying categorical columns with large amounts of unique values and columns with only a single value."
   ]
  },
  {
   "cell_type": "code",
   "execution_count": 8,
   "metadata": {
    "scrolled": true
   },
   "outputs": [
    {
     "data": {
      "text/plain": [
       "id                              47293\n",
       "parcelid                        47293\n",
       "bathroomcnt                        13\n",
       "bedroomcnt                         12\n",
       "buildingqualitytypeid              12\n",
       "calculatedbathnbr                  12\n",
       "calculatedfinishedsquarefeet     4302\n",
       "finishedsquarefeet12             4300\n",
       "fips                                3\n",
       "fullbathcnt                        12\n",
       "heatingorsystemtypeid               3\n",
       "latitude                        38668\n",
       "longitude                       37041\n",
       "lotsizesquarefeet               16506\n",
       "propertycountylandusecode          40\n",
       "propertylandusetypeid              10\n",
       "propertyzoningdesc               1854\n",
       "rawcensustractandblock          25212\n",
       "regionidcity                      135\n",
       "regionidcounty                      3\n",
       "regionidzip                       290\n",
       "roomcnt                             5\n",
       "unitcnt                             1\n",
       "yearbuilt                         131\n",
       "structuretaxvaluedollarcnt      28782\n",
       "taxvaluedollarcnt               32671\n",
       "assessmentyear                      1\n",
       "landtaxvaluedollarcnt           28407\n",
       "taxamount                       46062\n",
       "censustractandblock             25234\n",
       "id.1                            47414\n",
       "parcelid.1                      47293\n",
       "logerror                        47020\n",
       "transactiondate                   253\n",
       "dtype: int64"
      ]
     },
     "execution_count": 8,
     "metadata": {},
     "output_type": "execute_result"
    }
   ],
   "source": [
    "# nunique() displays each column and the amount of unique values that it holds\n",
    "df.nunique()"
   ]
  },
  {
   "cell_type": "markdown",
   "metadata": {},
   "source": [
    "- The following are categorical columns will be removed because they contain more than 10 unique values. Encoding them would be computationaly expensive and add a large amount of columns to our dataframe.\n",
    "\n",
    "    - id (both)\n",
    "    - parcelid (both)\n",
    "    - buildingqualitytypeid\n",
    "    - latitude\n",
    "    - longitude\n",
    "    - propertylandusetypeid\n",
    "    - propertycountylandusecode\n",
    "    - propertyzoningdesc\n",
    "    - rawcensustractandblock\n",
    "    - regionidcity\n",
    "    - regionidzip\n",
    "    - yearbuilt\n",
    "    - censustractandblock\n",
    "    - transactiondate\n",
    "\n",
    "    \n",
    "- There are ways to avoid the consequences of encoding categorical columns with lots of features, but in the interest of time we will avoid these routes for now.\n",
    "\n",
    "\n",
    "- The following columns will be removed because they only contain 1 unique value and would thus not allow us to make any meaningful distinctions with them.\n",
    "\n",
    "    - assessmentyear\n",
    "    - unitcnt\n",
    "\n",
    "\n",
    "- All of these columns will be removed using the __drop_selected_columns__ function from prep.py"
   ]
  },
  {
   "cell_type": "markdown",
   "metadata": {},
   "source": [
    "#### Dropping columns that meet any of the following criteria (identified in steps prior)\n",
    "    - Categorical with 10 or more unique values \n",
    "    - Only contain 1 unique value\n",
    "    - landtaxvaluedollarcnt and structuretaxvaluedollarcnt\n",
    "        - summed under taxvaluedollarcnt column\n",
    "    - Near-duplicates of alternate column(s)"
   ]
  },
  {
   "cell_type": "code",
   "execution_count": 9,
   "metadata": {},
   "outputs": [
    {
     "data": {
      "text/html": [
       "<div>\n",
       "<style scoped>\n",
       "    .dataframe tbody tr th:only-of-type {\n",
       "        vertical-align: middle;\n",
       "    }\n",
       "\n",
       "    .dataframe tbody tr th {\n",
       "        vertical-align: top;\n",
       "    }\n",
       "\n",
       "    .dataframe thead th {\n",
       "        text-align: right;\n",
       "    }\n",
       "</style>\n",
       "<table border=\"1\" class=\"dataframe\">\n",
       "  <thead>\n",
       "    <tr style=\"text-align: right;\">\n",
       "      <th></th>\n",
       "      <th>bathroomcnt</th>\n",
       "      <th>bedroomcnt</th>\n",
       "      <th>calculatedfinishedsquarefeet</th>\n",
       "      <th>fips</th>\n",
       "      <th>heatingorsystemtypeid</th>\n",
       "      <th>lotsizesquarefeet</th>\n",
       "      <th>regionidcounty</th>\n",
       "      <th>roomcnt</th>\n",
       "      <th>taxvaluedollarcnt</th>\n",
       "      <th>taxamount</th>\n",
       "      <th>id.1</th>\n",
       "      <th>parcelid.1</th>\n",
       "      <th>logerror</th>\n",
       "    </tr>\n",
       "  </thead>\n",
       "  <tbody>\n",
       "    <tr>\n",
       "      <th>0</th>\n",
       "      <td>3.0</td>\n",
       "      <td>4.0</td>\n",
       "      <td>2376.0</td>\n",
       "      <td>6037.0</td>\n",
       "      <td>2.0</td>\n",
       "      <td>13038.0</td>\n",
       "      <td>3101.0</td>\n",
       "      <td>0.0</td>\n",
       "      <td>145143.0</td>\n",
       "      <td>1777.51</td>\n",
       "      <td>3</td>\n",
       "      <td>12177905</td>\n",
       "      <td>-0.10341</td>\n",
       "    </tr>\n",
       "    <tr>\n",
       "      <th>1</th>\n",
       "      <td>3.0</td>\n",
       "      <td>3.0</td>\n",
       "      <td>1312.0</td>\n",
       "      <td>6037.0</td>\n",
       "      <td>2.0</td>\n",
       "      <td>278581.0</td>\n",
       "      <td>3101.0</td>\n",
       "      <td>0.0</td>\n",
       "      <td>119407.0</td>\n",
       "      <td>1533.89</td>\n",
       "      <td>4</td>\n",
       "      <td>10887214</td>\n",
       "      <td>0.00694</td>\n",
       "    </tr>\n",
       "  </tbody>\n",
       "</table>\n",
       "</div>"
      ],
      "text/plain": [
       "   bathroomcnt  bedroomcnt  calculatedfinishedsquarefeet    fips  \\\n",
       "0          3.0         4.0                        2376.0  6037.0   \n",
       "1          3.0         3.0                        1312.0  6037.0   \n",
       "\n",
       "   heatingorsystemtypeid  lotsizesquarefeet  regionidcounty  roomcnt  \\\n",
       "0                    2.0            13038.0          3101.0      0.0   \n",
       "1                    2.0           278581.0          3101.0      0.0   \n",
       "\n",
       "   taxvaluedollarcnt  taxamount  id.1  parcelid.1  logerror  \n",
       "0           145143.0    1777.51     3    12177905  -0.10341  \n",
       "1           119407.0    1533.89     4    10887214   0.00694  "
      ]
     },
     "execution_count": 9,
     "metadata": {},
     "output_type": "execute_result"
    }
   ],
   "source": [
    "# function drop columns meeting any criterion above\n",
    "df = drop_selected_columns(df)\n",
    "\n",
    "df.head(2)"
   ]
  },
  {
   "cell_type": "markdown",
   "metadata": {},
   "source": [
    "#### Using .info to examine our remaining columns"
   ]
  },
  {
   "cell_type": "code",
   "execution_count": 10,
   "metadata": {
    "scrolled": false
   },
   "outputs": [
    {
     "name": "stdout",
     "output_type": "stream",
     "text": [
      "<class 'pandas.core.frame.DataFrame'>\n",
      "RangeIndex: 47414 entries, 0 to 47413\n",
      "Data columns (total 13 columns):\n",
      " #   Column                        Non-Null Count  Dtype  \n",
      "---  ------                        --------------  -----  \n",
      " 0   bathroomcnt                   47414 non-null  float64\n",
      " 1   bedroomcnt                    47414 non-null  float64\n",
      " 2   calculatedfinishedsquarefeet  47407 non-null  float64\n",
      " 3   fips                          47414 non-null  float64\n",
      " 4   heatingorsystemtypeid         46685 non-null  float64\n",
      " 5   lotsizesquarefeet             46179 non-null  float64\n",
      " 6   regionidcounty                47414 non-null  float64\n",
      " 7   roomcnt                       47414 non-null  float64\n",
      " 8   taxvaluedollarcnt             47414 non-null  float64\n",
      " 9   taxamount                     47410 non-null  float64\n",
      " 10  id.1                          47414 non-null  int64  \n",
      " 11  parcelid.1                    47414 non-null  int64  \n",
      " 12  logerror                      47414 non-null  float64\n",
      "dtypes: float64(11), int64(2)\n",
      "memory usage: 4.7 MB\n"
     ]
    }
   ],
   "source": [
    "# .info displays information about \n",
    "df.info()"
   ]
  },
  {
   "cell_type": "markdown",
   "metadata": {},
   "source": [
    "- Considering that we'll be encoding our categorical columns, our data types look find for now \n",
    "- A few of our columns still have missing values\n",
    "    - Let's calculate what percent are missing, if the amount is very low, we can drop them instead of imputing them to save time"
   ]
  },
  {
   "cell_type": "markdown",
   "metadata": {},
   "source": [
    "#### Using our missing_rows (prep.py) function again to find what overall percent of rows are missing values."
   ]
  },
  {
   "cell_type": "code",
   "execution_count": 11,
   "metadata": {},
   "outputs": [
    {
     "name": "stdout",
     "output_type": "stream",
     "text": [
      "At most, 4.0% of rows contain missing values.\n"
     ]
    }
   ],
   "source": [
    "# passing dataframe to missing_rows function\n",
    "missing_rows_df = missing_rows(df)\n",
    "\n",
    "# summing values in the percent of rows missing column\n",
    "total_percent_rows_missing = round((missing_rows_df.pct_rows_missing).sum(),0)\n",
    "\n",
    "print(f'At most, {total_percent_rows_missing}% of rows contain missing values.')"
   ]
  },
  {
   "cell_type": "markdown",
   "metadata": {},
   "source": [
    "- In the interest of time, we will drop the remaining rows with missing values\n",
    "    - Given how small this amount is, it should be relatively inconsequential\n",
    "    - If need be, we can add these rows back in at a later time"
   ]
  },
  {
   "cell_type": "markdown",
   "metadata": {},
   "source": [
    "#### Dropping rows with missing values"
   ]
  },
  {
   "cell_type": "code",
   "execution_count": 12,
   "metadata": {},
   "outputs": [],
   "source": [
    "# drop all rows with missing values\n",
    "df.dropna(inplace = True)"
   ]
  },
  {
   "cell_type": "markdown",
   "metadata": {},
   "source": [
    "#### RFE PREPARATION CHECKPOINT\n",
    "\n",
    "At this point, we've removed a significant number of columns and taken care of our missing values.\n",
    "\n",
    "Our remaining columns will be ranked using Recursive Feature Elimination (RFE) to determine which we will focus on during our initial venture through exploration. \n",
    "\n",
    "With that in mind, we'll need to prepare our columns for RFE by\n",
    "- Encoding categorical columns\n",
    "- Idenfiying and handling outliers\n",
    "- Splitting our data into train, validate and test (although we only need train for RFE)\n",
    "- Scaling the data"
   ]
  },
  {
   "cell_type": "markdown",
   "metadata": {},
   "source": [
    "#### Before we encode our data, we need to identify our categorical columns so we know which columns to encode"
   ]
  },
  {
   "cell_type": "code",
   "execution_count": 13,
   "metadata": {
    "scrolled": true
   },
   "outputs": [
    {
     "data": {
      "text/plain": [
       "bathroomcnt                        13\n",
       "bedroomcnt                         12\n",
       "calculatedfinishedsquarefeet     4245\n",
       "fips                                1\n",
       "heatingorsystemtypeid               3\n",
       "lotsizesquarefeet               16337\n",
       "regionidcounty                      1\n",
       "roomcnt                             1\n",
       "taxvaluedollarcnt               31582\n",
       "taxamount                       44224\n",
       "id.1                            45470\n",
       "parcelid.1                      45350\n",
       "logerror                        45105\n",
       "dtype: int64"
      ]
     },
     "execution_count": 13,
     "metadata": {},
     "output_type": "execute_result"
    }
   ],
   "source": [
    "# using nunique to review our data\n",
    "df.nunique()"
   ]
  },
  {
   "cell_type": "markdown",
   "metadata": {},
   "source": [
    "- After dropping all of our null values, we see that fips, regionidcounty and roomcnt have been reduced to one unique value each.\n",
    "    - We'll remove these columns since they are no longer useful to use with only one unique value\n",
    "    - If need be, we can return to this stage, impute the missing values that were dropped earlier and retain these columns for exploration"
   ]
  },
  {
   "cell_type": "markdown",
   "metadata": {},
   "source": [
    "#### Dropping columns with only 1 unique value remaining since all nulls were removed"
   ]
  },
  {
   "cell_type": "code",
   "execution_count": 14,
   "metadata": {
    "scrolled": true
   },
   "outputs": [
    {
     "data": {
      "text/html": [
       "<div>\n",
       "<style scoped>\n",
       "    .dataframe tbody tr th:only-of-type {\n",
       "        vertical-align: middle;\n",
       "    }\n",
       "\n",
       "    .dataframe tbody tr th {\n",
       "        vertical-align: top;\n",
       "    }\n",
       "\n",
       "    .dataframe thead th {\n",
       "        text-align: right;\n",
       "    }\n",
       "</style>\n",
       "<table border=\"1\" class=\"dataframe\">\n",
       "  <thead>\n",
       "    <tr style=\"text-align: right;\">\n",
       "      <th></th>\n",
       "      <th>bathroomcnt</th>\n",
       "      <th>bedroomcnt</th>\n",
       "      <th>calculatedfinishedsquarefeet</th>\n",
       "      <th>heatingorsystemtypeid</th>\n",
       "      <th>lotsizesquarefeet</th>\n",
       "      <th>taxvaluedollarcnt</th>\n",
       "      <th>taxamount</th>\n",
       "      <th>id.1</th>\n",
       "      <th>parcelid.1</th>\n",
       "      <th>logerror</th>\n",
       "    </tr>\n",
       "  </thead>\n",
       "  <tbody>\n",
       "    <tr>\n",
       "      <th>0</th>\n",
       "      <td>3.0</td>\n",
       "      <td>4.0</td>\n",
       "      <td>2376.0</td>\n",
       "      <td>2.0</td>\n",
       "      <td>13038.0</td>\n",
       "      <td>145143.0</td>\n",
       "      <td>1777.51</td>\n",
       "      <td>3</td>\n",
       "      <td>12177905</td>\n",
       "      <td>-0.10341</td>\n",
       "    </tr>\n",
       "    <tr>\n",
       "      <th>1</th>\n",
       "      <td>3.0</td>\n",
       "      <td>3.0</td>\n",
       "      <td>1312.0</td>\n",
       "      <td>2.0</td>\n",
       "      <td>278581.0</td>\n",
       "      <td>119407.0</td>\n",
       "      <td>1533.89</td>\n",
       "      <td>4</td>\n",
       "      <td>10887214</td>\n",
       "      <td>0.00694</td>\n",
       "    </tr>\n",
       "  </tbody>\n",
       "</table>\n",
       "</div>"
      ],
      "text/plain": [
       "   bathroomcnt  bedroomcnt  calculatedfinishedsquarefeet  \\\n",
       "0          3.0         4.0                        2376.0   \n",
       "1          3.0         3.0                        1312.0   \n",
       "\n",
       "   heatingorsystemtypeid  lotsizesquarefeet  taxvaluedollarcnt  taxamount  \\\n",
       "0                    2.0            13038.0           145143.0    1777.51   \n",
       "1                    2.0           278581.0           119407.0    1533.89   \n",
       "\n",
       "   id.1  parcelid.1  logerror  \n",
       "0     3    12177905  -0.10341  \n",
       "1     4    10887214   0.00694  "
      ]
     },
     "execution_count": 14,
     "metadata": {},
     "output_type": "execute_result"
    }
   ],
   "source": [
    "# using function from prep.py to drop columns with only 1 unique value \n",
    "df = drop_more_selected_columns(df)\n",
    "\n",
    "df.head(2)"
   ]
  },
  {
   "cell_type": "markdown",
   "metadata": {},
   "source": [
    "- With those columns removed we can now encode our sole remaining categorical variable, heatingorsystemtypeid\n",
    "- All functions for the remainder of our prep phase will come from the __prep.py__ file (not the __prep.py__ file)"
   ]
  },
  {
   "cell_type": "markdown",
   "metadata": {},
   "source": [
    "### ENCODING"
   ]
  },
  {
   "cell_type": "markdown",
   "metadata": {},
   "source": [
    "#### Using zillow_dummy function (prep.py) to create dummy variables for heatingorsystemtypeid"
   ]
  },
  {
   "cell_type": "code",
   "execution_count": 15,
   "metadata": {
    "scrolled": false
   },
   "outputs": [
    {
     "data": {
      "text/html": [
       "<div>\n",
       "<style scoped>\n",
       "    .dataframe tbody tr th:only-of-type {\n",
       "        vertical-align: middle;\n",
       "    }\n",
       "\n",
       "    .dataframe tbody tr th {\n",
       "        vertical-align: top;\n",
       "    }\n",
       "\n",
       "    .dataframe thead th {\n",
       "        text-align: right;\n",
       "    }\n",
       "</style>\n",
       "<table border=\"1\" class=\"dataframe\">\n",
       "  <thead>\n",
       "    <tr style=\"text-align: right;\">\n",
       "      <th></th>\n",
       "      <th>bathroomcnt</th>\n",
       "      <th>bedroomcnt</th>\n",
       "      <th>calculatedfinishedsquarefeet</th>\n",
       "      <th>lotsizesquarefeet</th>\n",
       "      <th>taxvaluedollarcnt</th>\n",
       "      <th>taxamount</th>\n",
       "      <th>id.1</th>\n",
       "      <th>parcelid.1</th>\n",
       "      <th>logerror</th>\n",
       "      <th>heating_system_type_2</th>\n",
       "      <th>heating_system_type_7</th>\n",
       "      <th>heating_system_type_20</th>\n",
       "    </tr>\n",
       "  </thead>\n",
       "  <tbody>\n",
       "    <tr>\n",
       "      <th>0</th>\n",
       "      <td>3.0</td>\n",
       "      <td>4.0</td>\n",
       "      <td>2376.0</td>\n",
       "      <td>13038.0</td>\n",
       "      <td>145143.0</td>\n",
       "      <td>1777.51</td>\n",
       "      <td>3</td>\n",
       "      <td>12177905</td>\n",
       "      <td>-0.10341</td>\n",
       "      <td>1</td>\n",
       "      <td>0</td>\n",
       "      <td>0</td>\n",
       "    </tr>\n",
       "    <tr>\n",
       "      <th>1</th>\n",
       "      <td>3.0</td>\n",
       "      <td>3.0</td>\n",
       "      <td>1312.0</td>\n",
       "      <td>278581.0</td>\n",
       "      <td>119407.0</td>\n",
       "      <td>1533.89</td>\n",
       "      <td>4</td>\n",
       "      <td>10887214</td>\n",
       "      <td>0.00694</td>\n",
       "      <td>1</td>\n",
       "      <td>0</td>\n",
       "      <td>0</td>\n",
       "    </tr>\n",
       "  </tbody>\n",
       "</table>\n",
       "</div>"
      ],
      "text/plain": [
       "   bathroomcnt  bedroomcnt  calculatedfinishedsquarefeet  lotsizesquarefeet  \\\n",
       "0          3.0         4.0                        2376.0            13038.0   \n",
       "1          3.0         3.0                        1312.0           278581.0   \n",
       "\n",
       "   taxvaluedollarcnt  taxamount  id.1  parcelid.1  logerror  \\\n",
       "0           145143.0    1777.51     3    12177905  -0.10341   \n",
       "1           119407.0    1533.89     4    10887214   0.00694   \n",
       "\n",
       "   heating_system_type_2  heating_system_type_7  heating_system_type_20  \n",
       "0                      1                      0                       0  \n",
       "1                      1                      0                       0  "
      ]
     },
     "execution_count": 15,
     "metadata": {},
     "output_type": "execute_result"
    }
   ],
   "source": [
    "# saving resulting df to variable\n",
    "df = zillow_dummy(df)\n",
    "\n",
    "# previewing dummy data\n",
    "df.head(2)"
   ]
  },
  {
   "cell_type": "markdown",
   "metadata": {},
   "source": [
    "- Dummy variables added succesfully, now we can split the data\n"
   ]
  },
  {
   "cell_type": "markdown",
   "metadata": {},
   "source": [
    "#### Using split_data function (prep.py) to split data into train, validate and test samples."
   ]
  },
  {
   "cell_type": "code",
   "execution_count": 16,
   "metadata": {},
   "outputs": [
    {
     "data": {
      "text/plain": [
       "(25463, 12)"
      ]
     },
     "execution_count": 16,
     "metadata": {},
     "output_type": "execute_result"
    }
   ],
   "source": [
    "# function splits data into train, validate and test samples\n",
    "train, validate, test = split_data(df)\n",
    "\n",
    "# using shape to see count of rows and columns\n",
    "train.shape"
   ]
  },
  {
   "cell_type": "markdown",
   "metadata": {},
   "source": [
    "- We use .shape to confirm our number of rows reflects a split and it has"
   ]
  },
  {
   "cell_type": "markdown",
   "metadata": {},
   "source": [
    "### OUTLIERS"
   ]
  },
  {
   "cell_type": "markdown",
   "metadata": {},
   "source": [
    "#### We will now use our add_upper_outlier column function (prep.py) to add a column to our dataframe that will reflect how far above the upper boundary a corresponding outlier is, and if the corresponding value is not an outlier, it will contain a 0. \n",
    "\n",
    "#### Update: We did not handle lower outliers on our initial venture through the prep phase in order to save time. After seeing the data in visualizations while exploring there did not appear to be any extreme lower outliers so we're not going to invest time in pursuing them."
   ]
  },
  {
   "cell_type": "code",
   "execution_count": 17,
   "metadata": {
    "scrolled": false
   },
   "outputs": [
    {
     "data": {
      "text/html": [
       "<div>\n",
       "<style scoped>\n",
       "    .dataframe tbody tr th:only-of-type {\n",
       "        vertical-align: middle;\n",
       "    }\n",
       "\n",
       "    .dataframe tbody tr th {\n",
       "        vertical-align: top;\n",
       "    }\n",
       "\n",
       "    .dataframe thead th {\n",
       "        text-align: right;\n",
       "    }\n",
       "</style>\n",
       "<table border=\"1\" class=\"dataframe\">\n",
       "  <thead>\n",
       "    <tr style=\"text-align: right;\">\n",
       "      <th></th>\n",
       "      <th>bathroomcnt</th>\n",
       "      <th>bedroomcnt</th>\n",
       "      <th>calculatedfinishedsquarefeet</th>\n",
       "      <th>lotsizesquarefeet</th>\n",
       "      <th>taxvaluedollarcnt</th>\n",
       "      <th>taxamount</th>\n",
       "      <th>id.1</th>\n",
       "      <th>parcelid.1</th>\n",
       "      <th>logerror</th>\n",
       "      <th>heating_system_type_2</th>\n",
       "      <th>...</th>\n",
       "      <th>calculatedfinishedsquarefeet_upper_outliers</th>\n",
       "      <th>lotsizesquarefeet_upper_outliers</th>\n",
       "      <th>taxvaluedollarcnt_upper_outliers</th>\n",
       "      <th>taxamount_upper_outliers</th>\n",
       "      <th>id.1_upper_outliers</th>\n",
       "      <th>parcelid.1_upper_outliers</th>\n",
       "      <th>logerror_upper_outliers</th>\n",
       "      <th>heating_system_type_2_upper_outliers</th>\n",
       "      <th>heating_system_type_7_upper_outliers</th>\n",
       "      <th>heating_system_type_20_upper_outliers</th>\n",
       "    </tr>\n",
       "  </thead>\n",
       "  <tbody>\n",
       "    <tr>\n",
       "      <th>44015</th>\n",
       "      <td>3.0</td>\n",
       "      <td>2.0</td>\n",
       "      <td>1150.0</td>\n",
       "      <td>10868.0</td>\n",
       "      <td>168859.0</td>\n",
       "      <td>2122.76</td>\n",
       "      <td>72524</td>\n",
       "      <td>12109437</td>\n",
       "      <td>-0.007175</td>\n",
       "      <td>1</td>\n",
       "      <td>...</td>\n",
       "      <td>0.0</td>\n",
       "      <td>0.0</td>\n",
       "      <td>0.0</td>\n",
       "      <td>0.0</td>\n",
       "      <td>0</td>\n",
       "      <td>0</td>\n",
       "      <td>0.0</td>\n",
       "      <td>0</td>\n",
       "      <td>0</td>\n",
       "      <td>0.0</td>\n",
       "    </tr>\n",
       "    <tr>\n",
       "      <th>40095</th>\n",
       "      <td>3.0</td>\n",
       "      <td>5.0</td>\n",
       "      <td>1895.0</td>\n",
       "      <td>6746.0</td>\n",
       "      <td>428202.0</td>\n",
       "      <td>5519.32</td>\n",
       "      <td>66139</td>\n",
       "      <td>12738882</td>\n",
       "      <td>0.003639</td>\n",
       "      <td>1</td>\n",
       "      <td>...</td>\n",
       "      <td>0.0</td>\n",
       "      <td>0.0</td>\n",
       "      <td>0.0</td>\n",
       "      <td>0.0</td>\n",
       "      <td>0</td>\n",
       "      <td>0</td>\n",
       "      <td>0.0</td>\n",
       "      <td>0</td>\n",
       "      <td>0</td>\n",
       "      <td>0.0</td>\n",
       "    </tr>\n",
       "  </tbody>\n",
       "</table>\n",
       "<p>2 rows × 24 columns</p>\n",
       "</div>"
      ],
      "text/plain": [
       "       bathroomcnt  bedroomcnt  calculatedfinishedsquarefeet  \\\n",
       "44015          3.0         2.0                        1150.0   \n",
       "40095          3.0         5.0                        1895.0   \n",
       "\n",
       "       lotsizesquarefeet  taxvaluedollarcnt  taxamount   id.1  parcelid.1  \\\n",
       "44015            10868.0           168859.0    2122.76  72524    12109437   \n",
       "40095             6746.0           428202.0    5519.32  66139    12738882   \n",
       "\n",
       "       logerror  heating_system_type_2  ...  \\\n",
       "44015 -0.007175                      1  ...   \n",
       "40095  0.003639                      1  ...   \n",
       "\n",
       "       calculatedfinishedsquarefeet_upper_outliers  \\\n",
       "44015                                          0.0   \n",
       "40095                                          0.0   \n",
       "\n",
       "       lotsizesquarefeet_upper_outliers  taxvaluedollarcnt_upper_outliers  \\\n",
       "44015                               0.0                               0.0   \n",
       "40095                               0.0                               0.0   \n",
       "\n",
       "       taxamount_upper_outliers  id.1_upper_outliers  \\\n",
       "44015                       0.0                    0   \n",
       "40095                       0.0                    0   \n",
       "\n",
       "       parcelid.1_upper_outliers  logerror_upper_outliers  \\\n",
       "44015                          0                      0.0   \n",
       "40095                          0                      0.0   \n",
       "\n",
       "       heating_system_type_2_upper_outliers  \\\n",
       "44015                                     0   \n",
       "40095                                     0   \n",
       "\n",
       "       heating_system_type_7_upper_outliers  \\\n",
       "44015                                     0   \n",
       "40095                                     0   \n",
       "\n",
       "       heating_system_type_20_upper_outliers  \n",
       "44015                                    0.0  \n",
       "40095                                    0.0  \n",
       "\n",
       "[2 rows x 24 columns]"
      ]
     },
     "execution_count": 17,
     "metadata": {},
     "output_type": "execute_result"
    }
   ],
   "source": [
    "# function used to identify outliers and their distance from the upper boundary\n",
    "train = add_upper_outlier_columns(train, k=6)\n",
    "\n",
    "# previewing data\n",
    "train.head(2)"
   ]
  },
  {
   "cell_type": "markdown",
   "metadata": {},
   "source": [
    "- Outlier columns added successfully\n",
    "- Although present, we're disregarding all heating systems outlier columns because they are categorical\n",
    "- We're also disregarding logerror because we are not removing outliers from our target variable\n",
    "    - We want our project to reflect the fact that we can't remove outliers in many real-world scenarios\n",
    "- Set k to 6 which means that only the most extreme outliers will be identified\n",
    "    - Normally k is set to 1.5 but when we tried this value earlier, we identified so many outliers than removing them all would cost us too much data"
   ]
  },
  {
   "cell_type": "markdown",
   "metadata": {},
   "source": [
    "#### Now that we have our outlier data, we will use our outlier_data_print function (prep.py) to see on average, how far past the upper boundary each outlier is and how many there are per column."
   ]
  },
  {
   "cell_type": "code",
   "execution_count": 18,
   "metadata": {
    "scrolled": true
   },
   "outputs": [
    {
     "name": "stdout",
     "output_type": "stream",
     "text": [
      "~~~\n",
      "bathroomcnt_upper_outliers\n",
      "count    7.000000\n",
      "mean     1.857143\n",
      "std      1.069045\n",
      "min      1.000000\n",
      "25%      1.000000\n",
      "50%      2.000000\n",
      "75%      2.000000\n",
      "max      4.000000\n",
      "Name: bathroomcnt_upper_outliers, dtype: float64\n",
      "~~~\n",
      "bedroomcnt_upper_outliers\n",
      "count    0.0\n",
      "mean     NaN\n",
      "std      NaN\n",
      "min      NaN\n",
      "25%      NaN\n",
      "50%      NaN\n",
      "75%      NaN\n",
      "max      NaN\n",
      "Name: bedroomcnt_upper_outliers, dtype: float64\n",
      "~~~\n",
      "calculatedfinishedsquarefeet_upper_outliers\n",
      "count       77.000000\n",
      "mean      2178.129870\n",
      "std       2793.506024\n",
      "min         14.000000\n",
      "25%        468.000000\n",
      "50%       1111.000000\n",
      "75%       2877.000000\n",
      "max      14958.000000\n",
      "Name: calculatedfinishedsquarefeet_upper_outliers, dtype: float64\n",
      "~~~\n",
      "lotsizesquarefeet_upper_outliers\n",
      "count    2.440000e+03\n",
      "mean     1.997289e+05\n",
      "std      2.853832e+05\n",
      "min      2.400000e+01\n",
      "25%      4.321000e+04\n",
      "50%      1.085470e+05\n",
      "75%      2.504595e+05\n",
      "max      3.497243e+06\n",
      "Name: lotsizesquarefeet_upper_outliers, dtype: float64\n",
      "~~~\n",
      "taxvaluedollarcnt_upper_outliers\n",
      "count    3.350000e+02\n",
      "mean     1.805562e+06\n",
      "std      2.533143e+06\n",
      "min      2.686000e+03\n",
      "25%      3.438350e+05\n",
      "50%      8.375830e+05\n",
      "75%      2.243728e+06\n",
      "max      2.125798e+07\n",
      "Name: taxvaluedollarcnt_upper_outliers, dtype: float64\n",
      "~~~\n",
      "taxamount_upper_outliers\n",
      "count       333.000000\n",
      "mean      21554.490976\n",
      "std       30214.389605\n",
      "min          67.675000\n",
      "25%        4146.415000\n",
      "50%       10190.615000\n",
      "75%       27984.115000\n",
      "max      245838.185000\n",
      "Name: taxamount_upper_outliers, dtype: float64\n",
      "~~~\n",
      "id.1_upper_outliers\n",
      "count    0.0\n",
      "mean     NaN\n",
      "std      NaN\n",
      "min      NaN\n",
      "25%      NaN\n",
      "50%      NaN\n",
      "75%      NaN\n",
      "max      NaN\n",
      "Name: id.1_upper_outliers, dtype: float64\n",
      "~~~\n",
      "parcelid.1_upper_outliers\n",
      "count    0.0\n",
      "mean     NaN\n",
      "std      NaN\n",
      "min      NaN\n",
      "25%      NaN\n",
      "50%      NaN\n",
      "75%      NaN\n",
      "max      NaN\n",
      "Name: parcelid.1_upper_outliers, dtype: float64\n",
      "~~~\n",
      "logerror_upper_outliers\n",
      "count    318.000000\n",
      "mean       0.442825\n",
      "std        0.571550\n",
      "min        0.000667\n",
      "25%        0.091580\n",
      "50%        0.219210\n",
      "75%        0.535271\n",
      "max        2.952056\n",
      "Name: logerror_upper_outliers, dtype: float64\n",
      "~~~\n",
      "heating_system_type_2_upper_outliers\n",
      "count    0.0\n",
      "mean     NaN\n",
      "std      NaN\n",
      "min      NaN\n",
      "25%      NaN\n",
      "50%      NaN\n",
      "75%      NaN\n",
      "max      NaN\n",
      "Name: heating_system_type_2_upper_outliers, dtype: float64\n",
      "~~~\n",
      "heating_system_type_7_upper_outliers\n",
      "count    0.0\n",
      "mean     NaN\n",
      "std      NaN\n",
      "min      NaN\n",
      "25%      NaN\n",
      "50%      NaN\n",
      "75%      NaN\n",
      "max      NaN\n",
      "Name: heating_system_type_7_upper_outliers, dtype: float64\n",
      "~~~\n",
      "heating_system_type_20_upper_outliers\n",
      "count    42.0\n",
      "mean      1.0\n",
      "std       0.0\n",
      "min       1.0\n",
      "25%       1.0\n",
      "50%       1.0\n",
      "75%       1.0\n",
      "max       1.0\n",
      "Name: heating_system_type_20_upper_outliers, dtype: float64\n"
     ]
    }
   ],
   "source": [
    "# function gives a breakdown of outlier data, namely count and average distance from upper boundary\n",
    "upper_outlier_data_print(train)"
   ]
  },
  {
   "cell_type": "markdown",
   "metadata": {},
   "source": [
    "- The \"count\" and \"mean\" values above are what we are focused on\n",
    "     - Count tells us how many upper outliers we have\n",
    "     - Mean tells us how far above the upper bound (UB) they are on average\n",
    "\n",
    "\n",
    "- In total, we have 3,192 upper outliers, which is roughly 12% of our dataset\n",
    "    - This is a fairly signifcant amount but this should be the last data removal step we do before RFE\n",
    "    - Given that we set k so high earlier (6), these values are extreme outliers so we cannot overlook them\n",
    "\n",
    "\n",
    "- With all this noted our plan is to remove all outliers as this is the most time saving option we have\n",
    "    - If we find that we need more data because our model is performing poorly we can revisit this stage and impute the dropped values instead"
   ]
  },
  {
   "cell_type": "markdown",
   "metadata": {},
   "source": [
    "#### Using outlier_remover function (prep.py) to remove all upper outliers within non-target variable and non-categorical variable columns"
   ]
  },
  {
   "cell_type": "code",
   "execution_count": 19,
   "metadata": {
    "scrolled": true
   },
   "outputs": [
    {
     "data": {
      "text/html": [
       "<div>\n",
       "<style scoped>\n",
       "    .dataframe tbody tr th:only-of-type {\n",
       "        vertical-align: middle;\n",
       "    }\n",
       "\n",
       "    .dataframe tbody tr th {\n",
       "        vertical-align: top;\n",
       "    }\n",
       "\n",
       "    .dataframe thead th {\n",
       "        text-align: right;\n",
       "    }\n",
       "</style>\n",
       "<table border=\"1\" class=\"dataframe\">\n",
       "  <thead>\n",
       "    <tr style=\"text-align: right;\">\n",
       "      <th></th>\n",
       "      <th>bathroomcnt</th>\n",
       "      <th>bedroomcnt</th>\n",
       "      <th>calculatedfinishedsquarefeet</th>\n",
       "      <th>lotsizesquarefeet</th>\n",
       "      <th>taxvaluedollarcnt</th>\n",
       "      <th>taxamount</th>\n",
       "      <th>id.1</th>\n",
       "      <th>parcelid.1</th>\n",
       "      <th>logerror</th>\n",
       "      <th>heating_system_type_2</th>\n",
       "      <th>...</th>\n",
       "      <th>calculatedfinishedsquarefeet_upper_outliers</th>\n",
       "      <th>lotsizesquarefeet_upper_outliers</th>\n",
       "      <th>taxvaluedollarcnt_upper_outliers</th>\n",
       "      <th>taxamount_upper_outliers</th>\n",
       "      <th>id.1_upper_outliers</th>\n",
       "      <th>parcelid.1_upper_outliers</th>\n",
       "      <th>logerror_upper_outliers</th>\n",
       "      <th>heating_system_type_2_upper_outliers</th>\n",
       "      <th>heating_system_type_7_upper_outliers</th>\n",
       "      <th>heating_system_type_20_upper_outliers</th>\n",
       "    </tr>\n",
       "  </thead>\n",
       "  <tbody>\n",
       "    <tr>\n",
       "      <th>44015</th>\n",
       "      <td>3.0</td>\n",
       "      <td>2.0</td>\n",
       "      <td>1150.0</td>\n",
       "      <td>10868.0</td>\n",
       "      <td>168859.0</td>\n",
       "      <td>2122.76</td>\n",
       "      <td>72524</td>\n",
       "      <td>12109437</td>\n",
       "      <td>-0.007175</td>\n",
       "      <td>1</td>\n",
       "      <td>...</td>\n",
       "      <td>0.0</td>\n",
       "      <td>0.0</td>\n",
       "      <td>0.0</td>\n",
       "      <td>0.0</td>\n",
       "      <td>0</td>\n",
       "      <td>0</td>\n",
       "      <td>0.0</td>\n",
       "      <td>0</td>\n",
       "      <td>0</td>\n",
       "      <td>0.0</td>\n",
       "    </tr>\n",
       "    <tr>\n",
       "      <th>40095</th>\n",
       "      <td>3.0</td>\n",
       "      <td>5.0</td>\n",
       "      <td>1895.0</td>\n",
       "      <td>6746.0</td>\n",
       "      <td>428202.0</td>\n",
       "      <td>5519.32</td>\n",
       "      <td>66139</td>\n",
       "      <td>12738882</td>\n",
       "      <td>0.003639</td>\n",
       "      <td>1</td>\n",
       "      <td>...</td>\n",
       "      <td>0.0</td>\n",
       "      <td>0.0</td>\n",
       "      <td>0.0</td>\n",
       "      <td>0.0</td>\n",
       "      <td>0</td>\n",
       "      <td>0</td>\n",
       "      <td>0.0</td>\n",
       "      <td>0</td>\n",
       "      <td>0</td>\n",
       "      <td>0.0</td>\n",
       "    </tr>\n",
       "  </tbody>\n",
       "</table>\n",
       "<p>2 rows × 24 columns</p>\n",
       "</div>"
      ],
      "text/plain": [
       "       bathroomcnt  bedroomcnt  calculatedfinishedsquarefeet  \\\n",
       "44015          3.0         2.0                        1150.0   \n",
       "40095          3.0         5.0                        1895.0   \n",
       "\n",
       "       lotsizesquarefeet  taxvaluedollarcnt  taxamount   id.1  parcelid.1  \\\n",
       "44015            10868.0           168859.0    2122.76  72524    12109437   \n",
       "40095             6746.0           428202.0    5519.32  66139    12738882   \n",
       "\n",
       "       logerror  heating_system_type_2  ...  \\\n",
       "44015 -0.007175                      1  ...   \n",
       "40095  0.003639                      1  ...   \n",
       "\n",
       "       calculatedfinishedsquarefeet_upper_outliers  \\\n",
       "44015                                          0.0   \n",
       "40095                                          0.0   \n",
       "\n",
       "       lotsizesquarefeet_upper_outliers  taxvaluedollarcnt_upper_outliers  \\\n",
       "44015                               0.0                               0.0   \n",
       "40095                               0.0                               0.0   \n",
       "\n",
       "       taxamount_upper_outliers  id.1_upper_outliers  \\\n",
       "44015                       0.0                    0   \n",
       "40095                       0.0                    0   \n",
       "\n",
       "       parcelid.1_upper_outliers  logerror_upper_outliers  \\\n",
       "44015                          0                      0.0   \n",
       "40095                          0                      0.0   \n",
       "\n",
       "       heating_system_type_2_upper_outliers  \\\n",
       "44015                                     0   \n",
       "40095                                     0   \n",
       "\n",
       "       heating_system_type_7_upper_outliers  \\\n",
       "44015                                     0   \n",
       "40095                                     0   \n",
       "\n",
       "       heating_system_type_20_upper_outliers  \n",
       "44015                                    0.0  \n",
       "40095                                    0.0  \n",
       "\n",
       "[2 rows x 24 columns]"
      ]
     },
     "execution_count": 19,
     "metadata": {},
     "output_type": "execute_result"
    }
   ],
   "source": [
    "# function removes all upper outliers from non-categorical and non-target variable columns\n",
    "train = outlier_remover(train)\n",
    "\n",
    "# previewing data \n",
    "train.head(2)"
   ]
  },
  {
   "cell_type": "markdown",
   "metadata": {},
   "source": [
    "- all upper outliers dropped from appropriate columns"
   ]
  },
  {
   "cell_type": "markdown",
   "metadata": {},
   "source": [
    "#### We don't need our outlier columns going forward so we'll drop them to simplify our dataset."
   ]
  },
  {
   "cell_type": "code",
   "execution_count": 20,
   "metadata": {
    "scrolled": true
   },
   "outputs": [
    {
     "data": {
      "text/html": [
       "<div>\n",
       "<style scoped>\n",
       "    .dataframe tbody tr th:only-of-type {\n",
       "        vertical-align: middle;\n",
       "    }\n",
       "\n",
       "    .dataframe tbody tr th {\n",
       "        vertical-align: top;\n",
       "    }\n",
       "\n",
       "    .dataframe thead th {\n",
       "        text-align: right;\n",
       "    }\n",
       "</style>\n",
       "<table border=\"1\" class=\"dataframe\">\n",
       "  <thead>\n",
       "    <tr style=\"text-align: right;\">\n",
       "      <th></th>\n",
       "      <th>bathroomcnt</th>\n",
       "      <th>bedroomcnt</th>\n",
       "      <th>calculatedfinishedsquarefeet</th>\n",
       "      <th>lotsizesquarefeet</th>\n",
       "      <th>taxvaluedollarcnt</th>\n",
       "      <th>taxamount</th>\n",
       "      <th>id.1</th>\n",
       "      <th>parcelid.1</th>\n",
       "      <th>logerror</th>\n",
       "      <th>heating_system_type_2</th>\n",
       "      <th>heating_system_type_7</th>\n",
       "      <th>heating_system_type_20</th>\n",
       "    </tr>\n",
       "  </thead>\n",
       "  <tbody>\n",
       "    <tr>\n",
       "      <th>44015</th>\n",
       "      <td>3.0</td>\n",
       "      <td>2.0</td>\n",
       "      <td>1150.0</td>\n",
       "      <td>10868.0</td>\n",
       "      <td>168859.0</td>\n",
       "      <td>2122.76</td>\n",
       "      <td>72524</td>\n",
       "      <td>12109437</td>\n",
       "      <td>-0.007175</td>\n",
       "      <td>1</td>\n",
       "      <td>0</td>\n",
       "      <td>0</td>\n",
       "    </tr>\n",
       "    <tr>\n",
       "      <th>40095</th>\n",
       "      <td>3.0</td>\n",
       "      <td>5.0</td>\n",
       "      <td>1895.0</td>\n",
       "      <td>6746.0</td>\n",
       "      <td>428202.0</td>\n",
       "      <td>5519.32</td>\n",
       "      <td>66139</td>\n",
       "      <td>12738882</td>\n",
       "      <td>0.003639</td>\n",
       "      <td>1</td>\n",
       "      <td>0</td>\n",
       "      <td>0</td>\n",
       "    </tr>\n",
       "  </tbody>\n",
       "</table>\n",
       "</div>"
      ],
      "text/plain": [
       "       bathroomcnt  bedroomcnt  calculatedfinishedsquarefeet  \\\n",
       "44015          3.0         2.0                        1150.0   \n",
       "40095          3.0         5.0                        1895.0   \n",
       "\n",
       "       lotsizesquarefeet  taxvaluedollarcnt  taxamount   id.1  parcelid.1  \\\n",
       "44015            10868.0           168859.0    2122.76  72524    12109437   \n",
       "40095             6746.0           428202.0    5519.32  66139    12738882   \n",
       "\n",
       "       logerror  heating_system_type_2  heating_system_type_7  \\\n",
       "44015 -0.007175                      1                      0   \n",
       "40095  0.003639                      1                      0   \n",
       "\n",
       "       heating_system_type_20  \n",
       "44015                       0  \n",
       "40095                       0  "
      ]
     },
     "execution_count": 20,
     "metadata": {},
     "output_type": "execute_result"
    }
   ],
   "source": [
    "# creating list of outlier column names\n",
    "outlier_cols = [col for col in train if col.endswith('_outliers')]\n",
    "\n",
    "# dropping each column from list of outlier columns\n",
    "train = train.drop(columns = outlier_cols)\n",
    "\n",
    "# previewing data\n",
    "train.head(2)"
   ]
  },
  {
   "cell_type": "markdown",
   "metadata": {},
   "source": [
    "- Columns succesfully dropped"
   ]
  },
  {
   "cell_type": "markdown",
   "metadata": {},
   "source": [
    "### SCALING"
   ]
  },
  {
   "cell_type": "markdown",
   "metadata": {},
   "source": [
    "#### Using data_scaler (prep.py) to scale the data within our non-categorical and non-target variable columns.\n",
    "\n",
    "#### We'll be keeping a set of unscaled dataframes for things such as visualizations."
   ]
  },
  {
   "cell_type": "code",
   "execution_count": 21,
   "metadata": {},
   "outputs": [
    {
     "data": {
      "text/html": [
       "<div>\n",
       "<style scoped>\n",
       "    .dataframe tbody tr th:only-of-type {\n",
       "        vertical-align: middle;\n",
       "    }\n",
       "\n",
       "    .dataframe tbody tr th {\n",
       "        vertical-align: top;\n",
       "    }\n",
       "\n",
       "    .dataframe thead th {\n",
       "        text-align: right;\n",
       "    }\n",
       "</style>\n",
       "<table border=\"1\" class=\"dataframe\">\n",
       "  <thead>\n",
       "    <tr style=\"text-align: right;\">\n",
       "      <th></th>\n",
       "      <th>bathroomcnt</th>\n",
       "      <th>bedroomcnt</th>\n",
       "      <th>calculatedfinishedsquarefeet</th>\n",
       "      <th>lotsizesquarefeet</th>\n",
       "      <th>taxvaluedollarcnt</th>\n",
       "      <th>taxamount</th>\n",
       "      <th>id.1</th>\n",
       "      <th>parcelid.1</th>\n",
       "      <th>logerror</th>\n",
       "      <th>heating_system_type_2</th>\n",
       "      <th>heating_system_type_7</th>\n",
       "      <th>heating_system_type_20</th>\n",
       "    </tr>\n",
       "  </thead>\n",
       "  <tbody>\n",
       "    <tr>\n",
       "      <th>44015</th>\n",
       "      <td>0.333333</td>\n",
       "      <td>0.181818</td>\n",
       "      <td>0.148556</td>\n",
       "      <td>0.111172</td>\n",
       "      <td>0.064023</td>\n",
       "      <td>0.064408</td>\n",
       "      <td>72524</td>\n",
       "      <td>12109437</td>\n",
       "      <td>-0.007175</td>\n",
       "      <td>1</td>\n",
       "      <td>0</td>\n",
       "      <td>0</td>\n",
       "    </tr>\n",
       "    <tr>\n",
       "      <th>40095</th>\n",
       "      <td>0.333333</td>\n",
       "      <td>0.454545</td>\n",
       "      <td>0.259452</td>\n",
       "      <td>0.065931</td>\n",
       "      <td>0.164285</td>\n",
       "      <td>0.174718</td>\n",
       "      <td>66139</td>\n",
       "      <td>12738882</td>\n",
       "      <td>0.003639</td>\n",
       "      <td>1</td>\n",
       "      <td>0</td>\n",
       "      <td>0</td>\n",
       "    </tr>\n",
       "  </tbody>\n",
       "</table>\n",
       "</div>"
      ],
      "text/plain": [
       "       bathroomcnt  bedroomcnt  calculatedfinishedsquarefeet  \\\n",
       "44015     0.333333    0.181818                      0.148556   \n",
       "40095     0.333333    0.454545                      0.259452   \n",
       "\n",
       "       lotsizesquarefeet  taxvaluedollarcnt  taxamount   id.1  parcelid.1  \\\n",
       "44015           0.111172           0.064023   0.064408  72524    12109437   \n",
       "40095           0.065931           0.164285   0.174718  66139    12738882   \n",
       "\n",
       "       logerror  heating_system_type_2  heating_system_type_7  \\\n",
       "44015 -0.007175                      1                      0   \n",
       "40095  0.003639                      1                      0   \n",
       "\n",
       "       heating_system_type_20  \n",
       "44015                       0  \n",
       "40095                       0  "
      ]
     },
     "execution_count": 21,
     "metadata": {},
     "output_type": "execute_result"
    }
   ],
   "source": [
    "# scaling appropriate numerical columns\n",
    "train_scaled, validate_scaled, test_scaled = data_scaler(train, validate, test)\n",
    "\n",
    "# previewing dataframe\n",
    "train_scaled.head(2)"
   ]
  },
  {
   "cell_type": "markdown",
   "metadata": {},
   "source": [
    "- Data scaled successfully\n",
    "- We're not scaling any of our categorical columns (heatingsystemtypes) \n",
    "    - They are all binary values between 0 and 1 and thus don't need scaling\n",
    "- We're not scaling logerror because its our target variable\n",
    "- Our data is now ready for Recursive Feature Elimination"
   ]
  },
  {
   "cell_type": "markdown",
   "metadata": {},
   "source": [
    "### RFE"
   ]
  },
  {
   "cell_type": "markdown",
   "metadata": {},
   "source": [
    "#### Using rfe_ranker (prep.py) to rank the features in our train dataset via Recursive Feature Elimination."
   ]
  },
  {
   "cell_type": "code",
   "execution_count": 22,
   "metadata": {
    "scrolled": true
   },
   "outputs": [
    {
     "data": {
      "text/html": [
       "<div>\n",
       "<style scoped>\n",
       "    .dataframe tbody tr th:only-of-type {\n",
       "        vertical-align: middle;\n",
       "    }\n",
       "\n",
       "    .dataframe tbody tr th {\n",
       "        vertical-align: top;\n",
       "    }\n",
       "\n",
       "    .dataframe thead th {\n",
       "        text-align: right;\n",
       "    }\n",
       "</style>\n",
       "<table border=\"1\" class=\"dataframe\">\n",
       "  <thead>\n",
       "    <tr style=\"text-align: right;\">\n",
       "      <th></th>\n",
       "      <th>Feature</th>\n",
       "      <th>Rank</th>\n",
       "    </tr>\n",
       "  </thead>\n",
       "  <tbody>\n",
       "    <tr>\n",
       "      <th>2</th>\n",
       "      <td>calculatedfinishedsquarefeet</td>\n",
       "      <td>1</td>\n",
       "    </tr>\n",
       "    <tr>\n",
       "      <th>4</th>\n",
       "      <td>taxvaluedollarcnt</td>\n",
       "      <td>2</td>\n",
       "    </tr>\n",
       "    <tr>\n",
       "      <th>8</th>\n",
       "      <td>heating_system_type_20</td>\n",
       "      <td>3</td>\n",
       "    </tr>\n",
       "    <tr>\n",
       "      <th>7</th>\n",
       "      <td>heating_system_type_7</td>\n",
       "      <td>4</td>\n",
       "    </tr>\n",
       "    <tr>\n",
       "      <th>6</th>\n",
       "      <td>heating_system_type_2</td>\n",
       "      <td>5</td>\n",
       "    </tr>\n",
       "    <tr>\n",
       "      <th>1</th>\n",
       "      <td>bedroomcnt</td>\n",
       "      <td>6</td>\n",
       "    </tr>\n",
       "    <tr>\n",
       "      <th>0</th>\n",
       "      <td>bathroomcnt</td>\n",
       "      <td>7</td>\n",
       "    </tr>\n",
       "    <tr>\n",
       "      <th>5</th>\n",
       "      <td>taxamount</td>\n",
       "      <td>8</td>\n",
       "    </tr>\n",
       "    <tr>\n",
       "      <th>3</th>\n",
       "      <td>lotsizesquarefeet</td>\n",
       "      <td>9</td>\n",
       "    </tr>\n",
       "  </tbody>\n",
       "</table>\n",
       "</div>"
      ],
      "text/plain": [
       "                        Feature  Rank\n",
       "2  calculatedfinishedsquarefeet     1\n",
       "4             taxvaluedollarcnt     2\n",
       "8        heating_system_type_20     3\n",
       "7         heating_system_type_7     4\n",
       "6         heating_system_type_2     5\n",
       "1                    bedroomcnt     6\n",
       "0                   bathroomcnt     7\n",
       "5                     taxamount     8\n",
       "3             lotsizesquarefeet     9"
      ]
     },
     "execution_count": 22,
     "metadata": {},
     "output_type": "execute_result"
    }
   ],
   "source": [
    "# Function ranks features using RFE\n",
    "rfe_ranker(train_scaled)"
   ]
  },
  {
   "cell_type": "markdown",
   "metadata": {},
   "source": [
    "- Recursive Feature Elimination ranks each feature with regard to how strong it is at predicting logerror when used as a feature in a model.\n",
    "\n",
    "\n",
    "- We're going to move forward with our top 3 features in the exploration phase.\n",
    "    - 3 features is an adequete number of features to begin working with and if we find that we are in need of more features, we can return to this step and bring in more\n",
    "    - We're also planning on testing clusters as features in exploration, so this will also help supplement our feature count\n",
    "\n",
    "\n",
    "- Although the heating_system columns ranked higher than bedroomcnt, it will take more time to work with 3 categorical columns than 1 non-categorical during visualization and hypothesis testing\n",
    "    - For this reason we will instead take, the next highest ranked feature, bedroomcnt\n",
    "    \n",
    "    \n",
    "- Thus the 3 features we are moving forward with are:\n",
    "    - calculatedfinishedsquarefeet\n",
    "    - taxvaluedollarcount\n",
    "    - bedroomcnt"
   ]
  },
  {
   "cell_type": "markdown",
   "metadata": {},
   "source": [
    "#### Now that we've identified our top 3 features, we're going to remove the others from our datasets"
   ]
  },
  {
   "cell_type": "code",
   "execution_count": 23,
   "metadata": {},
   "outputs": [
    {
     "data": {
      "text/html": [
       "<div>\n",
       "<style scoped>\n",
       "    .dataframe tbody tr th:only-of-type {\n",
       "        vertical-align: middle;\n",
       "    }\n",
       "\n",
       "    .dataframe tbody tr th {\n",
       "        vertical-align: top;\n",
       "    }\n",
       "\n",
       "    .dataframe thead th {\n",
       "        text-align: right;\n",
       "    }\n",
       "</style>\n",
       "<table border=\"1\" class=\"dataframe\">\n",
       "  <thead>\n",
       "    <tr style=\"text-align: right;\">\n",
       "      <th></th>\n",
       "      <th>bedroomcnt</th>\n",
       "      <th>calculatedfinishedsquarefeet</th>\n",
       "      <th>taxvaluedollarcnt</th>\n",
       "      <th>logerror</th>\n",
       "    </tr>\n",
       "  </thead>\n",
       "  <tbody>\n",
       "    <tr>\n",
       "      <th>44015</th>\n",
       "      <td>0.181818</td>\n",
       "      <td>0.148556</td>\n",
       "      <td>0.064023</td>\n",
       "      <td>-0.007175</td>\n",
       "    </tr>\n",
       "    <tr>\n",
       "      <th>40095</th>\n",
       "      <td>0.454545</td>\n",
       "      <td>0.259452</td>\n",
       "      <td>0.164285</td>\n",
       "      <td>0.003639</td>\n",
       "    </tr>\n",
       "  </tbody>\n",
       "</table>\n",
       "</div>"
      ],
      "text/plain": [
       "       bedroomcnt  calculatedfinishedsquarefeet  taxvaluedollarcnt  logerror\n",
       "44015    0.181818                      0.148556           0.064023 -0.007175\n",
       "40095    0.454545                      0.259452           0.164285  0.003639"
      ]
     },
     "execution_count": 23,
     "metadata": {},
     "output_type": "execute_result"
    }
   ],
   "source": [
    "# function returns our dataframes with only the three we selected after RFE was performed\n",
    "train, validate, test, train_scaled, validate_scaled, test_scaled = rfe_column_dropper(train, validate, test, train_scaled, validate_scaled, test_scaled)\n",
    "\n",
    "# previewing data \n",
    "train_scaled.head(2)"
   ]
  },
  {
   "cell_type": "markdown",
   "metadata": {},
   "source": [
    "#### Now we'll rename our columns using our column_renamer function (prep.py) to finish our data prep. "
   ]
  },
  {
   "cell_type": "code",
   "execution_count": 24,
   "metadata": {
    "scrolled": false
   },
   "outputs": [
    {
     "data": {
      "text/html": [
       "<div>\n",
       "<style scoped>\n",
       "    .dataframe tbody tr th:only-of-type {\n",
       "        vertical-align: middle;\n",
       "    }\n",
       "\n",
       "    .dataframe tbody tr th {\n",
       "        vertical-align: top;\n",
       "    }\n",
       "\n",
       "    .dataframe thead th {\n",
       "        text-align: right;\n",
       "    }\n",
       "</style>\n",
       "<table border=\"1\" class=\"dataframe\">\n",
       "  <thead>\n",
       "    <tr style=\"text-align: right;\">\n",
       "      <th></th>\n",
       "      <th>bedroom_count</th>\n",
       "      <th>property_sq_ft</th>\n",
       "      <th>tax_dollar_value</th>\n",
       "      <th>log_error</th>\n",
       "    </tr>\n",
       "  </thead>\n",
       "  <tbody>\n",
       "    <tr>\n",
       "      <th>44015</th>\n",
       "      <td>0.181818</td>\n",
       "      <td>0.148556</td>\n",
       "      <td>0.064023</td>\n",
       "      <td>-0.007175</td>\n",
       "    </tr>\n",
       "    <tr>\n",
       "      <th>40095</th>\n",
       "      <td>0.454545</td>\n",
       "      <td>0.259452</td>\n",
       "      <td>0.164285</td>\n",
       "      <td>0.003639</td>\n",
       "    </tr>\n",
       "  </tbody>\n",
       "</table>\n",
       "</div>"
      ],
      "text/plain": [
       "       bedroom_count  property_sq_ft  tax_dollar_value  log_error\n",
       "44015       0.181818        0.148556          0.064023  -0.007175\n",
       "40095       0.454545        0.259452          0.164285   0.003639"
      ]
     },
     "execution_count": 24,
     "metadata": {},
     "output_type": "execute_result"
    }
   ],
   "source": [
    "# function renames various columns for readability\n",
    "column_renamer(train, validate, test, train_scaled, validate_scaled, test_scaled)\n",
    "\n",
    "# previewing data \n",
    "train_scaled.head(2)"
   ]
  },
  {
   "cell_type": "markdown",
   "metadata": {},
   "source": [
    "- Best features have been kept\n",
    "- Column renaming was successful"
   ]
  },
  {
   "cell_type": "markdown",
   "metadata": {},
   "source": [
    "#### Let's take one last look at our data to make sure everything is sound."
   ]
  },
  {
   "cell_type": "code",
   "execution_count": 25,
   "metadata": {
    "scrolled": false
   },
   "outputs": [
    {
     "name": "stdout",
     "output_type": "stream",
     "text": [
      "<class 'pandas.core.frame.DataFrame'>\n",
      "Int64Index: 22673 entries, 44015 to 11943\n",
      "Data columns (total 4 columns):\n",
      " #   Column            Non-Null Count  Dtype  \n",
      "---  ------            --------------  -----  \n",
      " 0   bedroom_count     22673 non-null  float64\n",
      " 1   property_sq_ft    22673 non-null  float64\n",
      " 2   tax_dollar_value  22673 non-null  float64\n",
      " 3   log_error         22673 non-null  float64\n",
      "dtypes: float64(4)\n",
      "memory usage: 885.7 KB\n"
     ]
    }
   ],
   "source": [
    "# using .info to check various properties of our data\n",
    "train_scaled.info()"
   ]
  },
  {
   "cell_type": "markdown",
   "metadata": {},
   "source": [
    "- No missing values\n",
    "- Data types are correct \n",
    "    - scaling values from 0 - 1 produces floats\n",
    "    - heating system columns are encoded as binary\n",
    "    - log error is still a float\n",
    "- Our prep is complete"
   ]
  },
  {
   "cell_type": "markdown",
   "metadata": {},
   "source": [
    "### PREPARE TAKEAWAYS\n",
    "- Dropped all columns that met any of the following criterion\n",
    "    - 40% or more of their values missing\n",
    "    - Duplicate or near-duplicate of other column(s)\n",
    "    - Categorical with 10 or more unique values\n",
    "    - Only contain 1 unique value\n",
    "    - landtaxvaluedollarcnt and structuretaxvaluedollarcnt\n",
    "        - Summed under taxvaluedollarcnt column\n",
    "    - Was not found to be a top feature after RFE was run\n",
    "\n",
    "\n",
    "- Dropped all rows with missing values\n",
    "\n",
    "\n",
    "- Removed all extreme outliers from dataset \n",
    "\n",
    "\n",
    "- Encoded heating_system column into 3 columns and dropped original\n",
    "\n",
    "\n",
    "- Scaled all numeric non-categorical, non-target variables\n",
    "\n",
    "\n",
    "- Data types are valid\n",
    "\n",
    "\n",
    "- Split data into train, validate and test sets\n",
    "\n",
    "\n",
    "- Remaining (renamed) features are:\n",
    "    - bedroom_count\t\n",
    "    - property_sq_ft\t\n",
    "    - tax_dollar_value\t\n",
    "\n",
    "\n",
    "- Our target variable, was renamed log_error\n",
    "\n",
    "\n",
    "- All custom functions in this phase can be found in the __prepare.py__ and __prep.py__ files\n",
    "    - When each function is appears in the notebook, the file it's located in is displayed next to it's name in ()\n",
    "    - To retrieve the data fully prepared, you can alternatively run the __final_prep()__ function (no arguments needed) from the __prep.py__ file\n",
    "***"
   ]
  },
  {
   "cell_type": "markdown",
   "metadata": {},
   "source": [
    "# Explore\n",
    "We will now explore our prepped data to identify drivers of logerror and relationships between variables.\n",
    "\n",
    "We will be using clustering to aid us in some parts of our exploration.\n",
    "***"
   ]
  },
  {
   "cell_type": "markdown",
   "metadata": {},
   "source": [
    "## Non-Clustered Exploration\n",
    "\n",
    "Let's begin our exploration by creating using visualizations and hypothesis tests to gauge the relationships between our features and our target variable. \n",
    "***"
   ]
  },
  {
   "cell_type": "markdown",
   "metadata": {},
   "source": [
    "### FEATURE: PROPERTY_SQ_FT\n",
    "Let's explore how the square feet of a property, relates to log error. "
   ]
  },
  {
   "cell_type": "markdown",
   "metadata": {},
   "source": [
    "### Visualization - Property_Sq_Ft\n",
    "#### We'll begin by plotting the relationship between log_error and property_sq_ft"
   ]
  },
  {
   "cell_type": "code",
   "execution_count": 26,
   "metadata": {},
   "outputs": [
    {
     "data": {
      "text/plain": [
       "(-4, 4)"
      ]
     },
     "execution_count": 26,
     "metadata": {},
     "output_type": "execute_result"
    },
    {
     "data": {
      "image/png": "[encoded data removed]",
      "text/plain": [
       "<Figure size 864x432 with 1 Axes>"
      ]
     },
     "metadata": {},
     "output_type": "display_data"
    }
   ],
   "source": [
    "# setting figure size for plot\n",
    "sns.set(rc = {'figure.figsize':(12,6)})\n",
    "\n",
    "# adjusting size of text on plot\n",
    "sns.set(font_scale = 2)\n",
    "\n",
    "# creating scatter plot and setting title\n",
    "sns.scatterplot(x = 'property_sq_ft', y = 'log_error', data = train).set_title(\"Lower Property SqFt. Relates to Worse Property Value Estimates\")\n",
    "\n",
    "# setting x and y labels\n",
    "plt.xlabel(\"Property Size (SqFt.)\")\n",
    "plt.ylabel(\"Log Error of Zestimate\")\n",
    "\n",
    "# setting y limits to ensure they are equal\n",
    "plt.ylim(-4, 4)"
   ]
  },
  {
   "cell_type": "markdown",
   "metadata": {},
   "source": [
    "- The farther away from 0 a zestimate's log error is, the farther off from reality the zestimate was\n",
    "\n",
    "\n",
    "- Generally, the smaller properties have log error values farther from 0 than larger properties \n",
    "    - Smaller properties have many more extreme overestimates than larger properties\n",
    "        - We'll perform a hypothesis test based on this observation\n",
    "        \n",
    "        \n",
    "- Since there appear to be more overestimates than underestimates, we're going to focus on those first"
   ]
  },
  {
   "cell_type": "markdown",
   "metadata": {},
   "source": [
    "### Hypothesis Test - Property_Sq_Ft"
   ]
  },
  {
   "cell_type": "markdown",
   "metadata": {},
   "source": [
    "#### We'll now perform a one tailed, two sample t-test to see if smaller properties have higher log error values than larger properties.\n",
    "\n",
    "- H0 = Log error of properties with below avg. SqFt. __<=__ Log error of properties with avg. or above avg. property SqFt.\n",
    "- Ha = Log error of properties with below avg. SqFt. __>__ Log error of properties with avg. or above avg. property SqFt."
   ]
  },
  {
   "cell_type": "code",
   "execution_count": 27,
   "metadata": {},
   "outputs": [
    {
     "name": "stdout",
     "output_type": "stream",
     "text": [
      "alpha = .05\n",
      "\n",
      "t = -2.34049\n",
      "p = 0.009633618331998254\n"
     ]
    }
   ],
   "source": [
    "# finding avg property Sqft.\n",
    "avg_property_sq_ft = train.property_sq_ft.mean()\n",
    "\n",
    "# x1 = df of properties with property_sq_ft less than the avg.\n",
    "# x2 = df of properties with property_sq_ft greater than or equal to the avg.\n",
    "x1 = train[train.property_sq_ft < avg_property_sq_ft].log_error\n",
    "x2 = train[train.property_sq_ft >= avg_property_sq_ft].log_error\n",
    "\n",
    "# performing one tailed, 2 sample t-test\n",
    "t, p = stats.ttest_ind(x1, x2)\n",
    "\n",
    "# printing results\n",
    "print(f'alpha = .05\\n')\n",
    "print(f't = {t:.5f}')\n",
    "print (f'p = {p / 2}')"
   ]
  },
  {
   "cell_type": "markdown",
   "metadata": {},
   "source": [
    "- p is below our alpha (.05)\n",
    "- t is negative\n",
    "    - p is below alpha but our t value is negative and it needed to be positive for us to reject our null hypothesis in this test.\n",
    "\n",
    "\n",
    "- However, I'm not convinced there is no connection between property_sq_ft and log error since our plot depicts log error values centering towards 0 as sqft. increases\n",
    "    - Let's test to see if smaller property sqft. is connected to lower log error values\n",
    "    - Log errors below 0 are unwanted as they indicate we are undervaluing properties"
   ]
  },
  {
   "cell_type": "markdown",
   "metadata": {},
   "source": [
    "### Hypothesis Test - Property_Sq_Ft"
   ]
  },
  {
   "cell_type": "markdown",
   "metadata": {},
   "source": [
    "#### To continue, we'll perform a one tailed, two sample t-test to see if smaller properties relate to lower log error values than larger properties.\n",
    "\n",
    "- H0 = Log error of properties with below avg. SqFt. __<=__ Log error of properties with avg. or above avg. property SqFt.\n",
    "- Ha = Log error of properties with below avg. SqFt. __<__ Log error of properties with avg. or above avg. property SqFt.\n",
    "\n",
    "#### Note: Although the coding for this test is identical to the test prior, I feel it's important that we document it separately with a new hypothesis. "
   ]
  },
  {
   "cell_type": "code",
   "execution_count": 28,
   "metadata": {},
   "outputs": [
    {
     "name": "stdout",
     "output_type": "stream",
     "text": [
      "alpha = .05\n",
      "\n",
      "t = -2.34049\n",
      "p = 0.009633618331998254\n"
     ]
    }
   ],
   "source": [
    "# finding avg property Sqft.\n",
    "avg_property_sq_ft = train.property_sq_ft.mean()\n",
    "\n",
    "# x1 = df of properties with property_sq_ft less than the avg.\n",
    "# x2 = df of properties with property_sq_ft greater than or equal to the avg.\n",
    "x1 = train[train.property_sq_ft < avg_property_sq_ft].log_error\n",
    "x2 = train[train.property_sq_ft >= avg_property_sq_ft].log_error\n",
    "\n",
    "# performing one tailed, 2 sample t-test\n",
    "t, p = stats.ttest_ind(x1, x2)\n",
    "\n",
    "# printing results\n",
    "print(f'alpha = .05\\n')\n",
    "print(f't = {t:.5f}')\n",
    "print (f'p = {p / 2}')"
   ]
  },
  {
   "cell_type": "markdown",
   "metadata": {},
   "source": [
    "- p is below alpha\n",
    "- t is negative\n",
    "    - We reject our null hypothesis and conclude there is evidence that properties with less than avg. square feet have lower log error values than properties with avg. or above avg. square feet\n",
    "\n",
    "\n",
    "- In light of this, we'll keep this feature as a candidate for modeling"
   ]
  },
  {
   "cell_type": "markdown",
   "metadata": {},
   "source": [
    "### FEATURE: TAX_DOLLAR VALUE\n",
    "Let's now explore how tax dollar value, relates to log error. "
   ]
  },
  {
   "cell_type": "markdown",
   "metadata": {},
   "source": [
    "### Visualization - Tax_Dollar_Value\n",
    "#### We will plot the relationship between log_error and tax_dollar_value"
   ]
  },
  {
   "cell_type": "code",
   "execution_count": 29,
   "metadata": {},
   "outputs": [
    {
     "data": {
      "text/plain": [
       "Text(0, 0.5, 'Log Error of Zestimate')"
      ]
     },
     "execution_count": 29,
     "metadata": {},
     "output_type": "execute_result"
    },
    {
     "data": {
      "image/png": "[encoded data removed]",
      "text/plain": [
       "<Figure size 864x432 with 1 Axes>"
      ]
     },
     "metadata": {},
     "output_type": "display_data"
    }
   ],
   "source": [
    "# setting figure size and text size\n",
    "sns.set(rc = {'figure.figsize':(12,6)})\n",
    "sns.set(font_scale = 2)\n",
    "\n",
    "# plotting data, setting title and scaling x axis values to simplify them\n",
    "sns.scatterplot(x = train['tax_dollar_value'] / 1000, y = 'log_error', data = train).set_title(\"Lower Tax Dollar Value Relates to Worse Property Value Estimates\")\n",
    "plt.xlabel(\"Tax Dollar Value (Thousands)\")\n",
    "plt.ylabel(\"Log Error of Zestimate\")"
   ]
  },
  {
   "cell_type": "markdown",
   "metadata": {},
   "source": [
    "- This visual looks very similar to our previous one and has similar takeaways\n",
    "\n",
    "\n",
    "- The farther away from 0 a zestimate's log error is, the farther off from reality the zestimate was\n",
    "\n",
    "\n",
    "- The lower value properties more overestimates and underestimates than larger properties\n",
    "    - Since lower value properties overestimates are more numerous than their underestimates, we're going to focus on those\n",
    "       \n",
    "       \n",
    "- We'll perform a hypothesis test to see if lower value properties tend to have higher log error values"
   ]
  },
  {
   "cell_type": "markdown",
   "metadata": {},
   "source": [
    "### Hypothesis Test - Tax_Dollar_Value\n",
    "\n",
    "#### Let's perform a one tailed, two sample t-test to see if properties with lower tax dollar value relate to higher log error values than higher tax dollar value properties.\n",
    "\n",
    "- H0 = Log error of properties with below avg. tax_dollar_value __<=__ Log error of properties with avg. or above avg. tax_dollar_value .\n",
    "- Ha = Log error of properties with below avg. tax_dollar_value __>__ Log error of properties with avg. or above avg. tax_dollar_value "
   ]
  },
  {
   "cell_type": "code",
   "execution_count": 30,
   "metadata": {},
   "outputs": [
    {
     "name": "stdout",
     "output_type": "stream",
     "text": [
      "alpha = .05\n",
      "\n",
      "t = 3.18858\n",
      "p = 0.0007158276410207939\n"
     ]
    }
   ],
   "source": [
    "# finding avg tax dollar value\n",
    "avg_tax_dollar_value = train.tax_dollar_value.mean()\n",
    "\n",
    "# x1 = df of properties with tax dollar value less than the avg.\n",
    "# x2 = df of properties with tax dollar value greater than or equal to the avg.\n",
    "x1 = train[train.tax_dollar_value < avg_tax_dollar_value].log_error\n",
    "x2 = train[train.tax_dollar_value >= avg_tax_dollar_value].log_error\n",
    "\n",
    "# performing one tailed, 2 sample t-test\n",
    "t, p = stats.ttest_ind(x1, x2)\n",
    "\n",
    "# printing results\n",
    "print(f'alpha = .05\\n')\n",
    "print(f't = {t:.5f}')\n",
    "print (f'p = {p / 2}')"
   ]
  },
  {
   "cell_type": "markdown",
   "metadata": {},
   "source": [
    "- p is below our alpha (.05)\n",
    "- t is positive\n",
    "    - We reject our null hypothesis and conclude there is evidence that properties with lower sqft. have higher log errors\n",
    "       \n",
    "       \n",
    "- Based on these observations, tax_dollar_value will remain a prospective feature for modeling"
   ]
  },
  {
   "cell_type": "markdown",
   "metadata": {},
   "source": [
    "### FEATURE: bedroom_COUNT\n",
    "Let's now explore how the number of bedrooms in a property relates to log error. "
   ]
  },
  {
   "cell_type": "markdown",
   "metadata": {},
   "source": [
    "### Visualization - Bedroom_Count\n",
    "#### We will plot the relationship between log_error and tax_dollar_value"
   ]
  },
  {
   "cell_type": "code",
   "execution_count": 31,
   "metadata": {},
   "outputs": [
    {
     "data": {
      "text/plain": [
       "Text(0, 0.5, 'Log Error of Zestimate')"
      ]
     },
     "execution_count": 31,
     "metadata": {},
     "output_type": "execute_result"
    },
    {
     "data": {
      "image/png": "[encoded data removed]",
      "text/plain": [
       "<Figure size 864x432 with 1 Axes>"
      ]
     },
     "metadata": {},
     "output_type": "display_data"
    }
   ],
   "source": [
    "# setting figure size\n",
    "sns.set(rc = {'figure.figsize':(12,6)})\n",
    "\n",
    "# setting font size\n",
    "sns.set(font_scale = 2)\n",
    "\n",
    "# plotting scatterplot and setting title\n",
    "sns.scatterplot(x = 'bedroom_count', y = 'log_error', data = train).set_title(\"Higher bedroom Count Relates to Worse Property Value Estimates\")\n",
    "\n",
    "# setting x and y label\n",
    "plt.xlabel(\"Number of bedrooms in Property\")\n",
    "plt.ylabel(\"Log Error of Zestimate\")"
   ]
  },
  {
   "cell_type": "markdown",
   "metadata": {},
   "source": [
    "- Similar to our other features, the graph shows that as the number of bedrooms increases, the range of the log error values gets smaller\n",
    "    - In other words, it appears that the less bedrooms a property has, the worse our zestimate tends to be\n",
    "        - Interestingly, this does not appear to be true for properties with no bedrooms\n",
    "            - If a property has no bedrooms, it may be a special kind of property that we are able to evaluate more effectively\n",
    "            \n",
    "- It's difficult to tell wether there are extreme log error values below or above 0\n",
    "    - We'll perform a hypothesis test for lower log errors since most of our tests have been features having high positive log error values"
   ]
  },
  {
   "cell_type": "markdown",
   "metadata": {},
   "source": [
    "### Hypothesis Test - bedroom_Count\n",
    "\n",
    "#### Let's perform a one tailed, two sample t-test to see if properties with less bedrooms relate to higher log error values than properties with more bedrooms.\n",
    "\n",
    "- H0 = Log error of properties with below avg. bedroom_count __<=__ Log error of properties with avg. or above avg. bedroom_count\n",
    "- H0 = Log error of properties with below avg. bedroom_count __<__ Log error of properties with avg. or above avg. bedroom_count"
   ]
  },
  {
   "cell_type": "code",
   "execution_count": 32,
   "metadata": {},
   "outputs": [
    {
     "name": "stdout",
     "output_type": "stream",
     "text": [
      "alpha = .05\n",
      "\n",
      "t = -3.82210\n",
      "p = 6.633653784930204e-05\n"
     ]
    }
   ],
   "source": [
    "# finding avg bedroom_count\n",
    "avg_bedroom_count = train.bedroom_count.mean()\n",
    "\n",
    "# x1 = df of properties with bedroom_count less than the avg.\n",
    "# x2 = df of properties with bedroom_countgreater than or equal to the avg.\n",
    "x1 = train[train.bedroom_count < avg_bedroom_count].log_error\n",
    "x2 = train[train.bedroom_count >= avg_bedroom_count].log_error\n",
    "\n",
    "# performing one tailed, 2 sample t-test\n",
    "t, p = stats.ttest_ind(x1, x2)\n",
    "\n",
    "# printing results\n",
    "print(f'alpha = .05\\n')\n",
    "print(f't = {t:.5f}')\n",
    "print (f'p = {p / 2}')"
   ]
  },
  {
   "cell_type": "markdown",
   "metadata": {},
   "source": [
    "- p is below our alpha (.05)\n",
    "- t is negative\n",
    "    - We reject our null hypothesis and conclude there is evidence that properties with lower bedroom counts have lower log errors\n",
    "\n",
    "\n",
    "\n",
    "- Based on our findings, bedroom_count should be considered a lucrative feature for modeling"
   ]
  },
  {
   "cell_type": "markdown",
   "metadata": {},
   "source": [
    "## Clustered Exploration\n",
    "\n",
    "Let's continue exploring by creating clusters that we can create hypothesis tests and visualizations with in order to gain further insight into the drivers of log_error.\n",
    "\n",
    "Since we're only working with 3 features, we can afford to create a cluster of every unique pair.\n",
    "\n",
    "It's important to cluster on scaled data when possible so we'll be using our scaled dataset here."
   ]
  },
  {
   "cell_type": "markdown",
   "metadata": {},
   "source": [
    "## Cluster Feature Set 1 - Property_Sq_Ft | Tax_Dollar_Value\n",
    "\n",
    "Let's cluster using these two features and check if there is any difference between their log error values.\n",
    "\n",
    "To begin, well use subplots to see what are clusters look like with different cluster amounts. This gives us a good idea of how many clusters we should choose for a given pair."
   ]
  },
  {
   "cell_type": "code",
   "execution_count": null,
   "metadata": {
    "scrolled": false
   },
   "outputs": [],
   "source": [
    "# creating df with the two features we want to cluster\n",
    "X_c1 = train_scaled[['property_sq_ft', 'tax_dollar_value']]\n",
    "\n",
    "# setting up subplots\n",
    "fig, axs = plt.subplots(2, 2, figsize=(12,12), sharex=True, sharey=True)\n",
    "\n",
    "# creating clusters, number of clusters increasing from 2 - 5\n",
    "for ax, k in zip(axs.ravel(), range(2, 6)):\n",
    "    clusters = KMeans(k).fit(X_c1).predict(X_c1)\n",
    "    \n",
    "    # plotting \n",
    "    sns.set(font_scale = 2)\n",
    "    ax.scatter(X_c1.property_sq_ft, X_c1.tax_dollar_value, c=clusters)\n",
    "    ax.set(title='Cluster Count = {}'.format(k), xlabel='Property SqFt. (scaled)', ylabel='Tax Value (scaled)')"
   ]
  },
  {
   "cell_type": "markdown",
   "metadata": {},
   "source": [
    "- We're looking for clean separation between clusters\n",
    "    - All of them have relatively clean separation between eachother so this is a difficult choice\n",
    "    - We'll go with 3 clusters to keep things simpler while also having a larger variety of clusters to work with than the minimum"
   ]
  },
  {
   "cell_type": "markdown",
   "metadata": {},
   "source": [
    "#### Now we'll create our 3 cluster types and add them to our dataframe"
   ]
  },
  {
   "cell_type": "code",
   "execution_count": null,
   "metadata": {
    "scrolled": true
   },
   "outputs": [],
   "source": [
    "# making copy of train so we don't alter the original\n",
    "train_k1 = train_scaled.copy()\n",
    "\n",
    "# creating kmeans object and fitting to data\n",
    "kmeans_1 = KMeans(n_clusters=3)\n",
    "kmeans_1.fit(X_c1)\n",
    "\n",
    "# creating clusters and adding as column\n",
    "train_k1['cluster'] = kmeans_1.predict(X_c1)"
   ]
  },
  {
   "cell_type": "markdown",
   "metadata": {},
   "source": [
    "#### Now we're going to examine our clusters in-depth and identify what they each represent."
   ]
  },
  {
   "cell_type": "code",
   "execution_count": null,
   "metadata": {
    "scrolled": false
   },
   "outputs": [],
   "source": [
    "# setting figure and text size \n",
    "sns.set(rc = {'figure.figsize':(8,8)})\n",
    "sns.set(font_scale = 2)\n",
    "\n",
    "# plotting data, setting title and scaling y axis values to simplify them\n",
    "sns.scatterplot(x = train_k1['property_sq_ft'], y = train_k1['tax_dollar_value'], data = train_k1, hue = 'cluster').set_title(\"Property SqFt. and Tax Dollar Value in 3 Clusters\")\n",
    "plt.xlabel(\"Property SqFt. (Scaled)\")\n",
    "plt.ylabel(\"Tax Value (Scaled)\")\n",
    "plt.legend(bbox_to_anchor=(1.05, 1), loc=2, borderaxespad=0.)"
   ]
  },
  {
   "cell_type": "markdown",
   "metadata": {},
   "source": [
    "- Cluster 0 is mostly \n",
    "    - low value\n",
    "    - small-size properties\n",
    "\n",
    "\n",
    "- Cluster 1 is mostly \n",
    "    - low-to-mid value \n",
    "    - small-to-medium size properties \n",
    "\n",
    "       \n",
    "- Cluster 2 is mostly \n",
    "    - mid-to-high value \n",
    "    - small-to-medium size properties"
   ]
  },
  {
   "cell_type": "markdown",
   "metadata": {},
   "source": [
    "### Cluster Feature Set 1 - Hypothesis Test - ANOVA\n",
    "\n",
    "Now that we've identified the characterstics of our properties, we'll perform an anova test to see if there is any difference in their average log errors.\n",
    "\n",
    "- H0 = There is no difference between the average log error of cluster 0, cluster 1, and cluster 2\n",
    "- Ha = There is a difference between the average log error of cluster 0, cluster 1, and cluster 2"
   ]
  },
  {
   "cell_type": "code",
   "execution_count": null,
   "metadata": {
    "scrolled": true
   },
   "outputs": [],
   "source": [
    "# creating an array for the log error of each cluster type\n",
    "cluster_0 = train_k1[train_k1.cluster == 0].log_error\n",
    "cluster_1 = train_k1[train_k1.cluster == 1].log_error\n",
    "cluster_2 = train_k1[train_k1.cluster == 2].log_error\n",
    "\n",
    "# performing ANOVA test\n",
    "f, p = stats.f_oneway(cluster_0, cluster_1, cluster_2)\n",
    "\n",
    "# printing results\n",
    "print(f'alpha = .05\\n')\n",
    "print(f'f = {f:.5f}')\n",
    "print (f'p = {p}')"
   ]
  },
  {
   "cell_type": "markdown",
   "metadata": {},
   "source": [
    "- p is much greater than alpha\n",
    "- We fail to reject our null hypothesis and conclude there is no difference in log error between the clusters\n",
    "- In light of this, we will not be using this cluster for further analysis"
   ]
  },
  {
   "cell_type": "markdown",
   "metadata": {},
   "source": [
    "## Cluster Feature Set 2 - Property_Sq_Ft | Bedroom_Count\n",
    "\n",
    "Let's cluster using these two features and check if there is any difference between their log error values.\n",
    "\n",
    "To begin, well use subplots to see what our clusters look like with different cluster amounts. This gives us a good idea of how many clusters we should choose for a given pair."
   ]
  },
  {
   "cell_type": "code",
   "execution_count": null,
   "metadata": {},
   "outputs": [],
   "source": [
    "# creating df with the two features we want to cluster\n",
    "X_c2 = train_scaled[['bedroom_count','property_sq_ft']]\n",
    "\n",
    "# setting up subplots\n",
    "fig, axs = plt.subplots(2, 2, figsize=(12,12), sharex=True, sharey=True)\n",
    "\n",
    "# creating clusters, number of clusters increasing from 2 - 5\n",
    "for ax, k in zip(axs.ravel(), range(2, 6)):\n",
    "    clusters = KMeans(k).fit(X_c2).predict(X_c2)\n",
    "    \n",
    "    # plotting \n",
    "    sns.set(font_scale = 2)\n",
    "    ax.scatter(X_c2.bedroom_count, X_c2.property_sq_ft, c=clusters)\n",
    "    ax.set(title='Cluster Amount = {}'.format(k), ylabel='Property SqFt. (Scaled)', xlabel='# of bedrooms (Scaled)')"
   ]
  },
  {
   "cell_type": "markdown",
   "metadata": {},
   "source": [
    "- Once again, we're primarily looking for good separation between clusters\n",
    "    - As before, we're seeing good separation between all cluster counts\n",
    "        - We'll stick with our strategy of taking 3 clusters to make things simpler while also having more than the minimum number of clusters to work with\n",
    "\n",
    "- Property square feet seems to be having a strong influence on our clusters since it was in both feature sets and we're seeing similar splits"
   ]
  },
  {
   "cell_type": "markdown",
   "metadata": {},
   "source": [
    "#### Now we'll create our 3 cluster types and add them to our dataframe"
   ]
  },
  {
   "cell_type": "code",
   "execution_count": null,
   "metadata": {},
   "outputs": [],
   "source": [
    "# making copy of train so we don't alter the original\n",
    "train_k2 = train_scaled.copy()\n",
    "\n",
    "# creating kmeans object and fitting to data\n",
    "kmeans_2 = KMeans(n_clusters=3)\n",
    "kmeans_2.fit(X_c2)\n",
    "\n",
    "# creating clusters and adding as column\n",
    "train_k2['cluster'] = kmeans_2.predict(X_c2)"
   ]
  },
  {
   "cell_type": "markdown",
   "metadata": {},
   "source": [
    "#### Now we're going to examine our clusters in-depth and identify what they each represent."
   ]
  },
  {
   "cell_type": "code",
   "execution_count": null,
   "metadata": {},
   "outputs": [],
   "source": [
    "# setting figure and text size \n",
    "sns.set(rc = {'figure.figsize':(8,8)})\n",
    "sns.set(font_scale = 2)\n",
    "\n",
    "# plotting data, setting title and scaling y axis values to simplify them\n",
    "sns.scatterplot(x = train_k2['bedroom_count'], y = train_k2['property_sq_ft'], data = train_k2, hue = 'cluster').set_title(\"Property SqFt. and bedroom Count in 3 Clusters\")\n",
    "plt.ylabel(\"Property Square Feet (Scaled)\")\n",
    "plt.xlabel(\"# of bedrooms in Property (Scaled)\")\n",
    "plt.legend(bbox_to_anchor=(1.05, 1), loc=2, borderaxespad=0.)"
   ]
  },
  {
   "cell_type": "markdown",
   "metadata": {},
   "source": [
    "- Cluster 0 is mostly\n",
    "    - medium-to-high bedroom count\n",
    "    - medium-to-large size properties\n",
    "\n",
    "\n",
    "- Cluster 1 is mostly\n",
    "    - low-to-medium bedroom count \n",
    "    - small size properties\n",
    "    \n",
    "    \n",
    "- Cluster 2 is mostly \n",
    "    - low bedroom count\n",
    "    - small size properties"
   ]
  },
  {
   "cell_type": "markdown",
   "metadata": {},
   "source": [
    "## Cluster Feature Set 2 - Hypothesis Test - ANOVA\n",
    "\n",
    "Now that we've identified the characterstics of our properties, we'll perform an anova test to see if there is any difference in their average log errors.\n",
    "\n",
    "- H0 = There is no difference between the average log error of cluster 0, cluster 1, and cluster 2\n",
    "- Ha = There is a difference between the average log error of cluster 0, cluster 1, and cluster 2"
   ]
  },
  {
   "cell_type": "code",
   "execution_count": null,
   "metadata": {},
   "outputs": [],
   "source": [
    "# creating an array for the log error of each cluster type\n",
    "cluster_0 = train_k2[train_k2.cluster == 0].log_error\n",
    "cluster_1 = train_k2[train_k2.cluster == 1].log_error\n",
    "cluster_2 = train_k2[train_k2.cluster == 2].log_error\n",
    "\n",
    "# performing ANOVA test\n",
    "f, p = stats.f_oneway(cluster_0, cluster_1, cluster_2)\n",
    "\n",
    "# printing results\n",
    "print(f'alpha = .05\\n')\n",
    "print(f'f = {f:.5f}')\n",
    "print (f'p = {p}')"
   ]
  },
  {
   "cell_type": "markdown",
   "metadata": {},
   "source": [
    "- p is less than alpha\n",
    "- We reject our null hypothesis and conclude there is a difference in the average log error of the clusters\n",
    "- We will use these clusters as features in our modeling phase"
   ]
  },
  {
   "cell_type": "markdown",
   "metadata": {},
   "source": [
    "### CLUSTER FEATURE SET 3 - bedroom Count | Tax_Dollar_Value \n",
    "\n",
    "Let's cluster using these two features and check if there is any difference between their log error values.\n",
    "\n",
    "To begin, well use subplots to see what are clusters look like with different cluster amounts. This gives us a good idea of how many clusters we should choose for a given pair."
   ]
  },
  {
   "cell_type": "code",
   "execution_count": null,
   "metadata": {
    "scrolled": false
   },
   "outputs": [],
   "source": [
    "# creating df with the two features we want to cluster\n",
    "X_c3 = train_scaled[['bedroom_count','tax_dollar_value']]\n",
    "\n",
    "# setting up subplots\n",
    "fig, axs = plt.subplots(2, 2, figsize=(12,12), sharex=True, sharey=True)\n",
    "\n",
    "# creating clusters, number of clusters increasing from 2 - 5\n",
    "for ax, k in zip(axs.ravel(), range(2, 6)):\n",
    "    clusters = KMeans(k).fit(X_c3).predict(X_c3)\n",
    "    \n",
    "    # plotting \n",
    "    sns.set(font_scale = 2)\n",
    "    ax.scatter(X_c3.bedroom_count, X_c3.tax_dollar_value, c=clusters)\n",
    "    ax.set(title='Cluster Amount = {}'.format(k), ylabel='Tax Value (Scaled)', xlabel='# of bedrooms (Scaled)')"
   ]
  },
  {
   "cell_type": "markdown",
   "metadata": {},
   "source": [
    "- Still looking for clean separation and only cluster counts 2 and 3 depict this\n",
    "    - Once again we'll opt for 3 to have an extra cluster beyond the minimum to work with"
   ]
  },
  {
   "cell_type": "markdown",
   "metadata": {},
   "source": [
    "#### Now we'll create our 3 cluster types and add them to our dataframe"
   ]
  },
  {
   "cell_type": "code",
   "execution_count": null,
   "metadata": {},
   "outputs": [],
   "source": [
    "# making copy of train so we don't alter the original\n",
    "train_k3 = train_scaled.copy()\n",
    "\n",
    "# creating kmeans object and fitting to data\n",
    "kmeans_3 = KMeans(n_clusters=3)\n",
    "kmeans_3.fit(X_c3)\n",
    "\n",
    "# creating clusters and adding as column\n",
    "train_k3['cluster'] = kmeans_3.predict(X_c3)"
   ]
  },
  {
   "cell_type": "markdown",
   "metadata": {},
   "source": [
    "#### Now we're going to examine our clusters in-depth and identify what they each represent."
   ]
  },
  {
   "cell_type": "code",
   "execution_count": null,
   "metadata": {},
   "outputs": [],
   "source": [
    "# setting figure and text size \n",
    "sns.set(rc = {'figure.figsize':(8,8)})\n",
    "sns.set(font_scale = 2)\n",
    "\n",
    "# plotting data, setting title and scaling y axis values to simplify them\n",
    "sns.scatterplot(x = train_k3['bedroom_count'], y = train_k3['tax_dollar_value'], data = train_k3, hue = 'cluster').set_title(\"Tax Value and bedroom Count in 3 Clusters\")\n",
    "plt.ylabel(\"Tax Value (Scaled)\")\n",
    "plt.xlabel(\"# of bedrooms in Property (Scaled)\")\n",
    "plt.legend(bbox_to_anchor=(1.05, 1), loc=2, borderaxespad=0.)"
   ]
  },
  {
   "cell_type": "markdown",
   "metadata": {},
   "source": [
    "- Cluster 0 is mostly\n",
    "    - Low bedroom count, low value properties\n",
    "\n",
    "\n",
    "- Cluster 1 is mostly\n",
    "    - Low-to-medium bedroom count, medium-to-high value properties\n",
    "    \n",
    "\n",
    "- Cluster 2 is mostly\n",
    "    - Low-to-medium bedroom count, low-to-medium value properties"
   ]
  },
  {
   "cell_type": "markdown",
   "metadata": {},
   "source": [
    "## Cluster Feature set 3 - Hypothesis Test - ANOVA\n",
    "\n",
    "Now that we've identified the characterstics of our properties, we'll perform an anova test to see if there is any difference in their average log errors.\n",
    "\n",
    "- H0 = There is no difference between the average log error of cluster 0, cluster 1, and cluster 2\n",
    "- Ha = There is a difference between the average log error of cluster 0, cluster 1, and cluster 2"
   ]
  },
  {
   "cell_type": "code",
   "execution_count": null,
   "metadata": {},
   "outputs": [],
   "source": [
    "# creating an array for the log error of each cluster type\n",
    "cluster_0 = train_k3[train_k3.cluster == 0].log_error\n",
    "cluster_1 = train_k3[train_k3.cluster == 1].log_error\n",
    "cluster_2 = train_k3[train_k3.cluster == 2].log_error\n",
    "\n",
    "# performing ANOVA test\n",
    "f, p = stats.f_oneway(cluster_0, cluster_1, cluster_2)\n",
    "\n",
    "# printing results\n",
    "print(f'alpha = .05\\n')\n",
    "print(f'f = {f:.5f}')\n",
    "print (f'p = {p}')"
   ]
  },
  {
   "cell_type": "markdown",
   "metadata": {},
   "source": [
    "- p is much greater than alpha\n",
    "\n",
    "- We fail to reject our null hypothesis and conclude there is no difference in log error between the clusters\n",
    "\n",
    "- For these reasons we will not be using this cluster for further analysis"
   ]
  },
  {
   "cell_type": "markdown",
   "metadata": {},
   "source": [
    "### Exploration Takeaways"
   ]
  },
  {
   "cell_type": "markdown",
   "metadata": {},
   "source": [
    "Non Clustered Exploration\n",
    "\n",
    "- Property_Sq_ft\n",
    "    - Visualization and Hypothesis test suggest that lower property_sq_ft may be drivers of log_error values above 0\n",
    "        \n",
    "\n",
    "- Tax_Dollar_Value\n",
    "    - Visualization and second hypothesis test are evidence that lower tax_dollar_value may be a driver of log_error values below 0\n",
    "        \n",
    "\n",
    "- bedroom_count\n",
    "    - Visualization and hypothesis test suggest that lower bedroom_count may be a driver of log_error values above 0\n",
    "\n",
    "\n",
    "- Log errors above 0 aren't good since they signal overestimation of property values\n",
    "- Log errors below 0 aren't good since they signal underestimation of property values\n",
    "\n",
    "\n",
    "- Considering the average log error values in our visualizations appeared to be at or very close to 0, we want log error values that are line with the average, not too far above or below\n",
    "\n",
    "Clustered Exploration\n",
    "\n",
    "\n",
    "- Created unique feature sets, each was composed of a different pair of our features above\n",
    "    - Created clusters from each set and set the number of clusters within each to 3\n",
    "        - Feature set 1: property_sq_ft | tax_dollar_value\n",
    "        - Feature set 2: property_sq_ft | bedroom_count\n",
    "        - Feature set 3: bedroom_count | tax_dollar_value\n",
    "\n",
    "\n",
    "- Ran ANOVA tests on each pair's clusters to determine if there were any differences in log error\n",
    "    - Only the clusters created using property_sq_ft and bedroom_count showed differences in log error\n",
    "        - If log errors meaningfully fluctuate between these cluster types, they may be useful as features in our model to predict log error \n",
    "\n",
    "\n",
    "Moving Forward\n",
    "\n",
    "\n",
    "- With all this being noted, we will move into modeling with the following as prospective features\n",
    "    - tax_dollar_value\n",
    "    - property_sq_ft\n",
    "    - bedroom_count\n",
    "    - Feature set 2's clusters"
   ]
  },
  {
   "cell_type": "markdown",
   "metadata": {},
   "source": [
    "## Modeling\n",
    "We'll now construct several models that will attempt to predict the log error associated with each property. "
   ]
  },
  {
   "cell_type": "markdown",
   "metadata": {},
   "source": [
    "### Baseline Model\n",
    "Our first model is a baseline model that will always predict the population average log error. \n",
    "\n",
    "It will also serve as the benchmark that our alternate models will seek to outperform."
   ]
  },
  {
   "cell_type": "code",
   "execution_count": null,
   "metadata": {},
   "outputs": [],
   "source": [
    "baseline_function(train_scaled)"
   ]
  },
  {
   "cell_type": "markdown",
   "metadata": {},
   "source": [
    "- Baseline RMSE is .154544 and the metric our other models need to improve upon"
   ]
  },
  {
   "cell_type": "markdown",
   "metadata": {},
   "source": [
    "### TRAIN\n",
    "Our models will be fitted to the train dataset and then predict its logerror values.\n",
    "\n",
    "Our 2 best models that outperform the baseline model will be taken to validation."
   ]
  },
  {
   "cell_type": "markdown",
   "metadata": {},
   "source": [
    "### Model 1 (All Feature Model)\n",
    "Overview: Let's create a model that uses all of the features from our exploration phase including clusters.\n",
    "\n",
    "Model type: Linear Regression\n",
    "\n",
    "\n",
    "Model Features \n",
    "- property_sq_ft\n",
    "- tax_dollar_value\n",
    "- bedroom_count\n",
    "- clusters\n",
    "    - Features: property_sq_ft and bedroom_count\n",
    "    - Number of clusters: 3"
   ]
  },
  {
   "cell_type": "code",
   "execution_count": null,
   "metadata": {
    "scrolled": false
   },
   "outputs": [],
   "source": [
    "model_1_function(train_scaled, train_scaled)"
   ]
  },
  {
   "cell_type": "markdown",
   "metadata": {},
   "source": [
    "- RMSE value is below baseline's (an improvement)\n",
    "- If this model outperforms either of the other models it will go to validation"
   ]
  },
  {
   "cell_type": "markdown",
   "metadata": {},
   "source": [
    "### Model 2 (No Clusters Model)\n",
    "Overview: Let's create a model that uses all of the features from our exploration phase without any clusters.\n",
    "\n",
    "Model type: Linear Regression\n",
    "\n",
    "\n",
    "Model Features \n",
    "- property_sq_ft\n",
    "- tax_dollar_value\n",
    "- bedroom_count"
   ]
  },
  {
   "cell_type": "code",
   "execution_count": null,
   "metadata": {},
   "outputs": [],
   "source": [
    "model_2_function(train_scaled, train_scaled)"
   ]
  },
  {
   "cell_type": "markdown",
   "metadata": {},
   "source": [
    "- Model outperformed baseline but worse than model 1 which used clusters\n",
    "    - Suggests clusters are effective at improving log error predictions "
   ]
  },
  {
   "cell_type": "markdown",
   "metadata": {},
   "source": [
    "### Model 3 (All Clusters Model)\n",
    "Overview: Since our last model performed worse without clusters, let's see how a model will perform with only clusters. It's possible that the clusters are so effective that the non-cluster features are creating noise which is worsening performance.\n",
    "\n",
    "Model type: Linear Regression\n",
    "\n",
    "\n",
    "Model Features \n",
    "- clusters\n",
    "    - Features: property_sq_ft and bedroom_count\n",
    "    - Number of clusters: 3"
   ]
  },
  {
   "cell_type": "code",
   "execution_count": null,
   "metadata": {},
   "outputs": [],
   "source": [
    "model_3_function(train_scaled, train_scaled)"
   ]
  },
  {
   "cell_type": "markdown",
   "metadata": {},
   "source": [
    "- This model outperformed the baseline but worse than our other 2 models\n",
    "- We're only taking our best 2 models to validation so this one will be left behind\n",
    "- It appears that our model still needs non-cluster features to perform better"
   ]
  },
  {
   "cell_type": "markdown",
   "metadata": {},
   "source": [
    "### VALIDATE\n",
    "Our top 2 models from the train dataset phase will now be used on the validate dataset.\n",
    "\n",
    "The best model model will be taken to the test phase."
   ]
  },
  {
   "cell_type": "markdown",
   "metadata": {},
   "source": [
    "### Model 1 (All Feature Model)"
   ]
  },
  {
   "cell_type": "code",
   "execution_count": null,
   "metadata": {
    "scrolled": true
   },
   "outputs": [],
   "source": [
    "model_1_function(train_scaled, validate_scaled)"
   ]
  },
  {
   "cell_type": "markdown",
   "metadata": {},
   "source": [
    "### Model 2 (No Clusters Model)"
   ]
  },
  {
   "cell_type": "code",
   "execution_count": null,
   "metadata": {},
   "outputs": [],
   "source": [
    "model_2_function(train_scaled, validate_scaled)"
   ]
  },
  {
   "cell_type": "markdown",
   "metadata": {},
   "source": [
    "- This gives us an idea of how our models will perform on unseen data (out of sample)\n",
    "- Model 2 outperformed model 1 so it will be taken to the test phase\n",
    "- Interesting to note that our cluster model was outperformed better by our non-cluster model in validate (out of sample) but no on train (in sample)\n",
    "    - One possible explanation is that by chance, the feature data used to make the clusters (bedroom_count and property_sq_ft) in our validate sample is much different than our train sample, so model 1's performance was more heavily affected by its unfamiliarity with this data."
   ]
  },
  {
   "cell_type": "markdown",
   "metadata": {},
   "source": [
    "### TEST\n",
    "Our best model from the validate phase will now be used on the test dataset."
   ]
  },
  {
   "cell_type": "markdown",
   "metadata": {},
   "source": [
    "### Model 2 (No Clusters Model)"
   ]
  },
  {
   "cell_type": "code",
   "execution_count": null,
   "metadata": {},
   "outputs": [],
   "source": [
    "model_2_function(train_scaled, test_scaled)"
   ]
  },
  {
   "cell_type": "markdown",
   "metadata": {},
   "source": [
    "- Our model performed worse on the test data than on the validate data.\n",
    "    - This is very interesting considering that both of validate and test are out-of-sample datasets\n",
    "    - A possible explanation for this could be that by chance, the data from train and validate was very similar and so the model performed better on validate since its data was similar to the data it was fitted on"
   ]
  },
  {
   "cell_type": "markdown",
   "metadata": {},
   "source": [
    "### Modeling Takeaways"
   ]
  },
  {
   "cell_type": "markdown",
   "metadata": {},
   "source": [
    "Created 4 models \n",
    "    \n",
    "- Baseline\n",
    "    - Always predicts average logerror\n",
    "        \n",
    "        \n",
    "- Model 1 (All features)\n",
    "    - Linear Regression\n",
    "    - Features \n",
    "        - property_sq_ft\n",
    "        - tax_dollar_value\n",
    "        - bedroom_count\n",
    "        - clusters\n",
    "            - Feature set: property_sq_ft and bedroom_count\n",
    "            - Number of clusters: 3\n",
    "                \n",
    "                \n",
    "- Model 2 (No clusters)\n",
    "    - Linear Regression\n",
    "    - Features\n",
    "        - property_sq_ft\n",
    "        - tax_dollar_value\n",
    "        - bedroom_count\n",
    "            \n",
    "            \n",
    "- Model 3 (All clusters)\n",
    "    - Linear Regression\n",
    "    - Features \n",
    "        - clusters\n",
    "            - Feature set: property_sq_ft and bedroom_count\n",
    "            - Number of clusters: 3\n",
    "        \n",
    "Model 1 performance details\n",
    "- Proved to be best model via outperforming other models with regard to RMSE value of its predictions for log error vs actual log error\n",
    "- Performed better on validate sample than on test sample\n",
    "    - Possible explanation is that by chance, the sample it was fitted on, train, had very similar to the validate sample, but not the test sample.\n",
    "\n"
   ]
  },
  {
   "cell_type": "markdown",
   "metadata": {},
   "source": [
    "## Overall Conclusion and Takeaways"
   ]
  },
  {
   "cell_type": "markdown",
   "metadata": {},
   "source": [
    "Through visualizations, hypothesis tests and modeling, we discovered evidence that drivers of log_error may include \n",
    "- bedroom_count\n",
    "- property_sq_ft\n",
    "- tax_dollar_value\n",
    "- clusters created from a combination of bedroom_count and property_sq_ft\n",
    "\n",
    "We created several models that are described below\n",
    "- Baseline: \n",
    "    - Always predicts average log error\n",
    "    \n",
    "    \n",
    "- Model 1: \n",
    "    - Linear Regression\n",
    "    - Uses all features listed above, including clusters\n",
    "    \n",
    "    \n",
    "- Model 2: \n",
    "    - Linear Regression\n",
    "    - Uses all features listed above, except for clusters\n",
    "    \n",
    "    \n",
    "- Model 3: \n",
    "    - Linear Regression\n",
    "    - Only uses clustered features listed above\n",
    "\n",
    "\n",
    "- Each model's performance was evaluated based on the RMSE value produced by comparing its prediction of logerror values vs. actual log error values from the data it was predicting with\n",
    "\n",
    "- Model 2 was the best performer\n",
    "    - Although this model did not use clusters as features and outperformed models that did, our clustering algorithm was very new and with time could be improved\n",
    "        - If it is, that clustering algorithm could be incorporated into this model to improve its effectiveness\n",
    "\n",
    "- It should be noted that our second best model used clusters on the validate (out of sample) data to outperform our baseline model which was using in-sample data. This is further evidence that clusters may still be useful as tool for predicting log errors.\n",
    "\n",
    "Recommendations\n",
    "- We should focus on the features identified as possible drivers of log error when we are attempting to refine our zillow estimate software. For example, let's explore how we are generating zestimates for properties with lower square footage to identify why this variable relates to higher log errors.\n",
    "\n",
    "In the future\n",
    "- I'd like to revisit this project and use the heating_system categorical variable as a feature since it was ranked very highly during our RFE phase. We only elected to not use it in order to simplify our exploration and save time. We may be able to find evidence of it as a driver of logerror as well as incorporate it into our model.\n",
    "\n"
   ]
  },
  {
   "cell_type": "code",
   "execution_count": null,
   "metadata": {},
   "outputs": [],
   "source": []
  }
 ],
 "metadata": {
  "kernelspec": {
   "display_name": "Python 3",
   "language": "python",
   "name": "python3"
  },
  "language_info": {
   "codemirror_mode": {
    "name": "ipython",
    "version": 3
   },
   "file_extension": ".py",
   "mimetype": "text/x-python",
   "name": "python",
   "nbconvert_exporter": "python",
   "pygments_lexer": "ipython3",
   "version": "3.7.6"
  }
 },
 "nbformat": 4,
 "nbformat_minor": 4
}
