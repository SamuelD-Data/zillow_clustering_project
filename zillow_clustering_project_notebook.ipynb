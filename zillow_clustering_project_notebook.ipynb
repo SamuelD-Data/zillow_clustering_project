{
 "cells": [
  {
   "cell_type": "markdown",
   "metadata": {},
   "source": [
    "# The Drivers of Errors in Single Unit Zestimates at Zillow\n",
    "***"
   ]
  },
  {
   "cell_type": "markdown",
   "metadata": {},
   "source": [
    "## Introduction\n",
    "\n",
    "### Author\n",
    "- Samuel Davila\n",
    " - Data Scientist\n",
    " - Zillow DS Department\n",
    "\n",
    "### Purpose of project\n",
    "- Identify what causes the accuracy of our estimates of property value (\"Zestimates\") to fluctuate. \n",
    "\n",
    "### Why is this project important?\n",
    "- By understanding what improves and what weakens the accuracy of our estimates, we can shore up our weaknesses while maintaining our strengths. \n",
    "\n",
    "### Data source\n",
    "- Single unit property data from Zillow table in Data Science Database\n",
    "***"
   ]
  },
  {
   "cell_type": "markdown",
   "metadata": {},
   "source": [
    "## Executive Summary\n",
    "\n",
    "### Goals\n",
    "- Improve original estimate of the log error by using clustering methodologies.\n",
    "\n",
    "- Deliver the following:\n",
    "\n",
    "    - zillow_clustering_project.ipynb\n",
    "\n",
    "    - README.md\n",
    "\n",
    "    - acquire.py\n",
    "\n",
    "    - prep.py\n",
    "\n",
    "    - preprocessing.py\n",
    "\n",
    "    - model.py\n",
    "    \n",
    "    - A presentation that walks through each step of our project and this notebook as a whole.\n",
    "\n",
    "### Analysis\n",
    "\n",
    "Analysis goes here\n",
    "\n",
    "### Recommendation\n",
    "\n",
    "Recommendation goes here\n",
    "\n",
    "### Expectation\n",
    "\n",
    "Expectation goes here\n",
    "***"
   ]
  },
  {
   "cell_type": "markdown",
   "metadata": {},
   "source": [
    "## Project Planning"
   ]
  },
  {
   "cell_type": "markdown",
   "metadata": {},
   "source": [
    "### Acquire\n",
    "\n",
    "### Preparation\n",
    "\n",
    "### Exploraton\n",
    "\n",
    "### Model\n",
    "\n",
    "### Conclusion\n",
    "***"
   ]
  },
  {
   "cell_type": "markdown",
   "metadata": {},
   "source": [
    "## Acquire\n",
    "Acquire the data we need for our project."
   ]
  },
  {
   "cell_type": "code",
   "execution_count": null,
   "metadata": {},
   "outputs": [],
   "source": []
  },
  {
   "cell_type": "markdown",
   "metadata": {},
   "source": [
    "## Prepare\n",
    "Reformat our acquired data so that it is ready for exploration via converting data types, handling null values, dealing with outliers, changing column names, and anything else necessary for our next steps."
   ]
  },
  {
   "cell_type": "code",
   "execution_count": null,
   "metadata": {},
   "outputs": [],
   "source": []
  },
  {
   "cell_type": "markdown",
   "metadata": {},
   "source": [
    "## Explore"
   ]
  },
  {
   "cell_type": "code",
   "execution_count": null,
   "metadata": {},
   "outputs": [],
   "source": []
  },
  {
   "cell_type": "markdown",
   "metadata": {},
   "source": [
    "## Modeling"
   ]
  },
  {
   "cell_type": "code",
   "execution_count": null,
   "metadata": {},
   "outputs": [],
   "source": []
  },
  {
   "cell_type": "markdown",
   "metadata": {},
   "source": [
    "## Overall Conclusion and Takeaways"
   ]
  },
  {
   "cell_type": "code",
   "execution_count": null,
   "metadata": {},
   "outputs": [],
   "source": []
  }
 ],
 "metadata": {
  "kernelspec": {
   "display_name": "Python 3",
   "language": "python",
   "name": "python3"
  },
  "language_info": {
   "codemirror_mode": {
    "name": "ipython",
    "version": 3
   },
   "file_extension": ".py",
   "mimetype": "text/x-python",
   "name": "python",
   "nbconvert_exporter": "python",
   "pygments_lexer": "ipython3",
   "version": "3.7.6"
  }
 },
 "nbformat": 4,
 "nbformat_minor": 4
}
